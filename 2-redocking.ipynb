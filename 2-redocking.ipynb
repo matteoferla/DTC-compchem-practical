{
 "cells": [
  {
   "cell_type": "markdown",
   "source": [
    "# Docking basics\n",
    "\n",
    "This a notebook intended to be run in Colab. This is notebook 2.\n",
    "\n",
    "1. Intro to RDKit: [![colab demo](https://img.shields.io/badge/Run_RDKit_intro-f9ab00?logo=googlecolab)](https://colab.research.google.com/github/matteoferla/DTC-compchem-practical/blob/main/1-basics.ipynb) — Overview of RDKit functionality\n",
    "2. Intro to Forcefields & docking: [![colab demo](https://img.shields.io/badge/Run_Docking_intro-f9ab00?logo=googlecolab)](https://colab.research.google.com/github/matteoferla/DTC-compchem-practical/blob/main/2-redocking.ipynb) — Overview of forcefields in PyRosetta and redocking\n",
    "3. Merging: [![colab demo](https://img.shields.io/badge/Run_RDKit_intro-f9ab00?logo=googlecolab)](https://colab.research.google.com/github/matteoferla/DTC-compchem-practical/blob/main/3-merging.ipynb) — Expample of merging\n",
    "\n",
    "## Overview\n",
    "In this notebook we will use PyRosetta to glean the basics of forcefields and understand what happens in a docking protocol.\n",
    "Finally we will dock small molecules with known bound structure in order to compare the results with the empirical data.\n",
    "\n",
    "There are myriads of docking algorithms, in this notebook we are using PyRosetta as it's terms can be disected easily,\n",
    "and it will be used for the next notebook. Other options include, Gold, rDock, OpenEye Dock etc. They each have their pros and cons, for example, Glide, which is one of the top ranking docking software, but is part of the impressive Schrödinger suite, which is expensive."
   ],
   "metadata": {
    "collapsed": false
   }
  },
  {
   "cell_type": "markdown",
   "id": "3945a739-2f25-4783-bce9-dad74f5a2ba3",
   "metadata": {},
   "source": [
    "For the analysis, we will use fragment screen data from [Fragalysis](https://fragalysis.diamond.ac.uk/),\n",
    "the app that provides an interface to the various datasets in XChem, prof Frank von Delft's group at Diamond.\n",
    "For what is what consult [this table](https://github.com/matteoferla/munged-Fragalysis-targets/blob/main/targets.md).\n",
    "In this practical we will be using it for the data, but you are welcome to explore it.\n",
    "You will be shown it properly in the Diamond visit.\n",
    "Additionally, a key idea is fragment binding sites are no way of equal important to a researcher,\n",
    "i.e. designing an inhibitor for an enzyme requires knowledge of where and how catalysis occurs.\n",
    "This is also beyond the scope of this practical but worth keeping in mind."
   ]
  },
  {
   "cell_type": "code",
   "execution_count": null,
   "id": "a58b8d4f-4714-4a8a-b6a1-f5806bb64bc0",
   "metadata": {},
   "outputs": [],
   "source": [
    "#@title Installation\n",
    "local_debug = False\n",
    "if local_debug:\n",
    "    raise Exception('CURRENTLY IN DEBUG MODE.... REMEMBER TO CLEAR ALL CELLS!')\n",
    "#@markdown Press the play button on the top right hand side of this cell\n",
    "#@markdown once you have checked the settings.\n",
    "#@markdown You will be notified that this notebook is not from Google, that is normal.\n",
    "\n",
    "## Install all requirements and get some goodies\n",
    "!pip install git+https://github.com/matteoferla/DTC-compchem-practical.git\n",
    "# this will be called as:\n",
    "# import DTC_compchem_practical as dtc\n",
    "\n",
    "## Jupyter lab? use `trident-chemwidgets`\n",
    "!pip install git+https://github.com/matteoferla/JSME_notebook_hack.git\n",
    "!pip install --upgrade plotly\n",
    "\n",
    "# The next line is only valid for today without the Odin+Eduroam network\n",
    "# ie. your IP address is one of these https://help.it.ox.ac.uk/ip-addresses#collapse2202811\n",
    "#!pip install https://www.stats.ox.ac.uk/~ferla/pyrosetta-2022.46+release.f0c6fca0e2f-cp39-cp39-linux_x86_64.whl\n",
    "!pip install https://www.stats.ox.ac.uk/~ferla/pyrosetta-2022.47+release.d2aee95a6b7-cp37-cp37m-linux_x86_64.whl\n",
    "# Normally you have different ways of installing pyrosetta, e.g.\n",
    "# pip install pyrosetta_help\n",
    "# PYROSETTA_USERNAME=👾👾👾 PYROSETTA_PASSWORD=👾👾👾 install_pyrosetta\n",
    "\n",
    "from google.colab import output  # noqa (It's a colaboratory specific repo)\n",
    "output.enable_custom_widget_manager()"
   ]
  },
  {
   "cell_type": "code",
   "execution_count": null,
   "id": "0dde056f-ed8e-47a7-b62b-e8b0c70368d3",
   "metadata": {},
   "outputs": [],
   "source": [
    "#@title Download off Fragalysis\n",
    "#@markdown Choose a target\n",
    "target_name = '👾👾👾'   #@param {type:\"string\"}\n",
    "if local_debug:\n",
    "    target_name = 'MID2A'\n",
    "\n",
    "from rdkit import Chem\n",
    "from IPython.display import display\n",
    "from typing import Dict\n",
    "import DTC_compchem_practical as dtc\n",
    "\n",
    "#@markdown This will add the variables `pdb_filename`, `metadata_filename` and `sdf_filename`.\n",
    "filenames: Dict[str, str] = dtc.download_fragalysis(target_name, 'input')\n",
    "pdb_filename: str = filenames['reference.pdb']\n",
    "metadata_filename: str = filenames['metadata.csv']\n",
    "sdf_filename: str = filenames['combined.sdf']"
   ]
  },
  {
   "cell_type": "code",
   "execution_count": null,
   "outputs": [],
   "source": [
    "#@title Make an apo structure\n",
    "#@markdown Next we crudely remove HETATM record lines to get an apo structure.\n",
    "#@markdown This is quick, but not great approach.\n",
    "\n",
    "#@markdown [PDB file format](https://www.wwpdb.org/documentation/file-format-content/format33/v3.3.html)\n",
    "#@markdown and [PDB for general overview](https://pdb101.rcsb.org/learn/guide-to-understanding-pdb-data/primary-sequences-and-the-pdb-format)\n",
    "\n",
    "from io import StringIO\n",
    "with open(pdb_filename) as fh:\n",
    "    pdb_block:str = fh.read()\n",
    "\n",
    "apo_block = '\\n'.join(filter(lambda l: 'HETATM' not in l , pdb_block.split('\\n')))\n",
    "\n",
    "with open(f'input/{target_name}_reference.clean.pdb', 'w') as fh:\n",
    "    fh.write(apo_block)\n",
    "\n",
    "# This is w/o ligand\n",
    "import nglview as nv\n",
    "\n",
    "view = nv.NGLWidget()\n",
    "# change `apo_block` to `pdb_block` for the original:\n",
    "view.add_component(StringIO(apo_block), ext='pdb')\n",
    "view"
   ],
   "metadata": {
    "collapsed": false
   }
  },
  {
   "cell_type": "markdown",
   "source": [
    "## Questions\n",
    "> What is stored in a HETATM? (see )\n",
    "\n",
    "👾👾👾\n",
    "\n",
    "> What is an \"apo structure\"?\n",
    "\n",
    "👾👾👾\n",
    "\n",
    "> Why is crudely removing heteroligand atoms bad, and what could be done to fix it?\n",
    "\n",
    "👾👾👾"
   ],
   "metadata": {
    "collapsed": false
   }
  },
  {
   "cell_type": "code",
   "execution_count": null,
   "outputs": [],
   "source": [
    "#@title Make a combined table\n",
    "#@markdown Fragalysis does not give attributes in the sdf entries. This is instead stored in `metadata.csv`.\n",
    "\n",
    "from rdkit import Chem\n",
    "from rdkit.Chem import PandasTools\n",
    "import pandas as pd\n",
    "\n",
    "mol_df = pd.concat([PandasTools.LoadSDF(sdf_filename).set_index('ID'),\n",
    "                       pd.read_csv(metadata_filename, index_col=0).set_index('crystal_name')\n",
    "                      ], axis=1)\n",
    "mol_df.to_pickle(f'input/{target_name}_df.p')\n",
    "\n",
    "mol_df"
   ],
   "metadata": {
    "collapsed": false
   }
  },
  {
   "cell_type": "code",
   "execution_count": null,
   "outputs": [],
   "source": [
    "#@title Initialise Pyrosetta\n",
    "import pyrosetta, logging\n",
    "import pyrosetta_help as ph\n",
    "\n",
    "import types\n",
    "prn: types.ModuleType = pyrosetta.rosetta.numeric\n",
    "prc: types.ModuleType = pyrosetta.rosetta.core\n",
    "prp: types.MethodType = pyrosetta.rosetta.protocols\n",
    "prs: types.MethodType = prc.select.residue_selector\n",
    "\n",
    "\n",
    "# capture to log\n",
    "logger = ph.configure_logger()\n",
    "logger.handlers[0].setLevel(logging.ERROR)  # logging.WARNING = 30\n",
    "extra_options = ph.make_option_string(no_optH=False,\n",
    "                                      ex1=None,\n",
    "                                      ex2=None,\n",
    "                                      mute='all',\n",
    "                                      ignore_unrecognized_res=False,\n",
    "                                      load_PDB_components=False,\n",
    "                                      ignore_waters=True)\n",
    "pyrosetta.init(extra_options=extra_options)\n",
    "\n",
    "pose = pyrosetta.Pose()\n",
    "pyrosetta.rosetta.core.import_pose.pose_from_pdbstring(pose, apo_block)"
   ],
   "metadata": {
    "collapsed": false
   }
  },
  {
   "cell_type": "code",
   "execution_count": null,
   "outputs": [
    {
     "ename": "NameError",
     "evalue": "name 'Chem' is not defined",
     "output_type": "error",
     "traceback": [
      "\u001B[0;31m---------------------------------------------------------------------------\u001B[0m",
      "\u001B[0;31mNameError\u001B[0m                                 Traceback (most recent call last)",
      "Input \u001B[0;32mIn [1]\u001B[0m, in \u001B[0;36m<cell line: 10>\u001B[0;34m()\u001B[0m\n\u001B[1;32m      1\u001B[0m \u001B[38;5;66;03m#@title Residue Topology\u001B[39;00m\n\u001B[1;32m      2\u001B[0m \u001B[38;5;66;03m#@markdown As seen previously a molecule is a graph network where the nodes (atoms) may be connected by edges (bonds),\u001B[39;00m\n\u001B[1;32m      3\u001B[0m \u001B[38;5;66;03m#@markdown And the nodes/atoms have a partial charges property.\u001B[39;00m\n\u001B[0;32m   (...)\u001B[0m\n\u001B[1;32m      6\u001B[0m \u001B[38;5;66;03m#@markdown While other tools have different formats. Rosetta has `.param` files, which adds atom types and the relationship between\u001B[39;00m\n\u001B[1;32m      7\u001B[0m \u001B[38;5;66;03m#@markdown atoms in dihedral space, not cartesian.\u001B[39;00m\n\u001B[1;32m      8\u001B[0m \u001B[38;5;28;01mfrom\u001B[39;00m \u001B[38;5;21;01mrdkit_to_params\u001B[39;00m \u001B[38;5;28;01mimport\u001B[39;00m Params\n\u001B[0;32m---> 10\u001B[0m topo \u001B[38;5;241m=\u001B[39m Params\u001B[38;5;241m.\u001B[39mconvert_mol(\u001B[43mChem\u001B[49m\u001B[38;5;241m.\u001B[39mMolFromSmiles(\u001B[38;5;124m'\u001B[39m\u001B[38;5;124mCCO\u001B[39m\u001B[38;5;124m'\u001B[39m), name\u001B[38;5;241m=\u001B[39m\u001B[38;5;124m'\u001B[39m\u001B[38;5;124mLIG\u001B[39m\u001B[38;5;124m'\u001B[39m)\n\u001B[1;32m     11\u001B[0m \u001B[38;5;28mprint\u001B[39m(topo)\n",
      "\u001B[0;31mNameError\u001B[0m: name 'Chem' is not defined"
     ]
    }
   ],
   "source": [
    "#@title Residue Topology\n",
    "#@markdown As seen previously a molecule is a graph network where the nodes (atoms) may be connected by edges (bonds),\n",
    "#@markdown And the nodes/atoms have a partial charges property.\n",
    "#@markdown In molecular mechanics, blocks of atoms are called 'residues', be they ligands or polymer units.\n",
    "#@markdown When dealing with several algorithms, such as those using forcefields, the residue needs to be \"prepared\",\n",
    "#@markdown by adding how it bonds and its charges. Autodock uses a pdbqt format, which extends the PDB format with partial charge and atom types.\n",
    "#@markdown While other tools have different formats. Rosetta has `.param` files, which adds atom types and the relationship between\n",
    "#@markdown atoms in dihedral space, not cartesian.\n",
    "#@markdown A reside type / topology is the universal definition of a residue, not a specific residue.\n",
    "\n",
    "#@markdown This cell outputs the params file for the molecule 'CO' (methanol).\n",
    "#@markdown The format is specific to this toolkit, but the idea is common:\n",
    "#@markdown for an atom you need an atomname and a partial charge and... an 'atomtype'.\n",
    "#@markdown an atomtype combines element, hybridisation, VdW radius, etc. Similarly to a residuetype, it is a universal and not a specific residue.\n",
    "from rdkit_to_params import Params\n",
    "\n",
    "topo = Params.from_smiles('CO', name='LIG')\n",
    "display(topo)"
   ],
   "metadata": {
    "collapsed": false
   }
  },
  {
   "cell_type": "markdown",
   "source": [
    "## Questions\n",
    "\n",
    "> Why does the partial charge reside in an atom of a residue type not an atom type?\n",
    "\n",
    "👾👾👾\n",
    "\n",
    "> Why is bond order often absent in residue types/topologies?\n",
    "\n",
    "👾👾👾"
   ],
   "metadata": {
    "collapsed": false
   }
  },
  {
   "cell_type": "code",
   "execution_count": null,
   "outputs": [],
   "source": [
    "#@title Atomtype inspection\n",
    "#@markdown Let's have a gander of what AtomTypes look like\n",
    "import importlib_resources\n",
    "\n",
    "print(\n",
    "    importlib_resources.read_text('pyrosetta.database.chemical.atom_type_sets.fa_standard', 'atom_properties.txt')\n",
    ")\n",
    "#@markdown **Q**: Why is bond order often absent in residue types/topologies?"
   ],
   "metadata": {
    "collapsed": false
   }
  },
  {
   "cell_type": "markdown",
   "source": [
    "## Diffence in Gibbs free energy\n",
    "\n",
    "The following cells will talk of 'score' or 'change in Gibbs free energy'.\n",
    "\n",
    "A [change in Gibbs free energy](https://en.wikipedia.org/wiki/Gibbs_free_energy), written as ∆∆G (altered ∆G, say protein mutation, minus reference/wild type ∆G) or\n",
    "∆G_bind (ligand specific: ∆G bound complex minus ∆G of a pose where the ligand is well away from the protein),\n",
    "is a potential energy released to go to the reference state.\n",
    "Yesterday, Monday 28th, you were introduced to the Levinthal paradox and the folding funnel,\n",
    "an unfolded protein rolls down the energy funnel releasing energy and finding a _stable_ configuration.\n",
    "\n",
    "A ∆∆G is seen in the [Arrhenius equation](https://en.wikipedia.org/wiki/Arrhenius_equation) for rates:\n",
    "\n",
    "$$k=Ae^{\\frac {-E_{\\rm {a}}}{RT}}$$\n",
    "\n",
    "and it's variants (e.g. [Eyring equation](https://en.wikipedia.org/wiki/Eyring_equation)). I.e. the relationship between a rate and the change in potential is logarithm, hence why rates are occassinally writen in the log form (e.g. pIC50 or pKd).\n",
    "\n",
    "It is named after a person (J. Willard Gibbs) and is the difference in enthalpy minus entropy times temperature\n",
    "in its simplest form —...although do be aware that heat capacity factors into it in macromolecular rate theory.\n",
    "\n",
    "The [_RT_ denominator](https://en.wikipedia.org/wiki/KT_(energy)#RT) in the Arrhenius equation is the Boltzmann constant (kB) times temperature (T) and molarity (N_A, R&#183;N_A&#183;T = k_B&#183;T)\n",
    "\n",
    "At 25°C the mean collision energy of water will be approximately 0.6kcal/mol and 1kcal/mol at 37°C (cf. RT & Maxwell–Boltzmann distribution). A hydrogen bond is roughly -1 kcal/mol, a salt bridge is -2 kcal/mol and pi-pi interactions around 1.5 kcal/mol.\n",
    "\n",
    "The unit is either kcal/mol or kJ/mol. Do be vigilant which is being used as this is a common tripping poit. (But no, Americans do not horsepower per pound-mole luckily)\n",
    "\n",
    "A way to predict what this may be is summing the various contributions of energy, such as Columbic charge interactions, van der Vaals interactions etc.\n",
    "A key term is the [Lennard-Jones potential](https://en.wikipedia.org/wiki/Lennard-Jones_potential):\n",
    "\n",
    "$$V_{\\text{LJ}}(r)=4\\varepsilon \\left[\\left({\\frac {\\sigma }{r}}\\right)^{12}-\\left({\\frac {\\sigma }{r}}\\right)^{6}\\right]$$\n",
    "\n",
    "In Rosetta is split into an attractive term (the \"six term\") and the repulsive term (\"twelve term\").\n",
    "In many scorefunctions the output is not in kcal/mol or kJ/mol, and may not even correlate linearly.\n",
    "\n",
    "A very common forcefield is the Amber forcefield, which is used by AlphaFold2 as seen yesterday. They are not all the same and may have different terms, for example in the next few examples, the scorefunction does not take into account bond lengths, angles and dihedrals. Another common difference for example is whether the polarisability of bromide or aromatic systems is modelled (via a \"Drude particle\" as an approximation). But these are in the realm of molecular mechanics, whereas for more accurate and computationally-expensive one has to venture into the realm of quantum mechanics. For example, whether two pi-pi interacting rings will be T-stacking or parallel stacking model depends on the dipole moments or their orbitals.\n",
    "\n",
    "## Solatation\n",
    "\n",
    "In the model used the solvent is [_implicit_](https://en.wikipedia.org/wiki/Implicit_solvation). In MD simulations, the solvent is instead most often explicit. A common implicit model used is the [Born equation](https://en.wikipedia.org/wiki/Born_equation), however this is not the case w/ Rosetta."
   ],
   "metadata": {
    "collapsed": false
   }
  },
  {
   "cell_type": "code",
   "execution_count": null,
   "outputs": [],
   "source": [
    "#@title Forcefields\n",
    "#@markdown In this experiment we will place a chlorine ion and sodium ion at different distances.\n",
    "#@markdown to see how the terms behave.\n",
    "# For extra fun, we can change the charge of the chlorine:\n",
    "\n",
    "cl_charge: float = -1.0 #@param {type:\"number\"}\n",
    "\n",
    "import DTC_compchem_practical as dtc\n",
    "import numpy as np\n",
    "import pandas as pd\n",
    "\n",
    "combined_scores = {}\n",
    "\n",
    "#@markdown A `pyrosetta.ScoreFunction` is a callable which returns the score (~∆G for some ScoreFunction instances)\n",
    "#@markdown of a pose.\n",
    "scorefxn: pyrosetta.ScoreFunction = pyrosetta.get_fa_scorefxn()\n",
    "for offset in np.arange(0,10, 0.1):\n",
    "    test: pyrosetta.Pose = pyrosetta.pose_from_sequence('Z[NA]')\n",
    "    xyz = prn.xyzVector_double_t(test.residues[1].xyz(1))\n",
    "    xyz.x +=offset\n",
    "    dtc.add_mod_cl(test,\n",
    "                   gasteiger=cl_charge,\n",
    "                   xyz = xyz)\n",
    "    scores = {st.name: scorefxn.score_by_scoretype(test, st, True) for st in scorefxn.get_nonzero_weighted_scoretypes()}\n",
    "    scores['distance'] = (test.residue(1).xyz(1) - test.residue(2).xyz(1)).norm()\n",
    "    combined_scores[offset] = scores\n",
    "\n",
    "df = pd.DataFrame.from_dict(combined_scores, orient='index').round(2)\n",
    "ndf=(df-df.min())/abs(df.max()-df.min())\n",
    "#ndf.columns = map(ph.weights.term_meanings, ndf.columns.values)\n",
    "import plotly.express as px\n",
    "\n",
    "#@markdown For a dictionary of what the columns mean see `ph.weights.term_meanings`.\n",
    "#@markdown `fa_atr` is the six-term of the LJ potential, `fa-rep` is the twelve-term.\n",
    "#@markdown `fa_elec` is the Columbic interaction (charge)\n",
    "#@markdown `fa_sol` is a term to model the _implicit_ solvent used.\n",
    "fig = px.line(df)\n",
    "fig.update_xaxes(title=\"Distance [Å]\")\n",
    "fig.update_yaxes(title=\"Energy [kcal/mol]\")\n",
    "fig"
   ],
   "metadata": {
    "collapsed": false
   }
  },
  {
   "cell_type": "markdown",
   "source": [
    "## Questions\n",
    "\n",
    "> What force dominates when atoms are too close?\n",
    "\n",
    "👾👾👾\n",
    "\n",
    "> What happens between 2-4 Å? (Zoom into the interactive plotly figure)\n",
    "\n",
    "👾👾👾"
   ],
   "metadata": {
    "collapsed": false
   }
  },
  {
   "cell_type": "code",
   "execution_count": null,
   "outputs": [],
   "source": [
    "#@markdown Lets look at how the sidechains look with a given molecule in the _reference_ pose\n",
    "\n",
    "# avoid issues with multiple chains for simplicity of going through things: dont do this at home\n",
    "chainA = pose.split_by_chain()[1]\n",
    "\n",
    "mol_i = 0   #@param {type:\"integer\"}\n",
    "mol = mol_df.ROMol[mol_i]\n",
    "# add it to the pose\n",
    "# let's pretend by magic:\n",
    "combined = dtc.add_mol_in_pose(chainA, mol )\n",
    "\n",
    "# show it\n",
    "view = nv.show_rosetta(combined)\n",
    "dtc.add_neighbors(view, '[LIG]', radius=6)\n",
    "view"
   ],
   "metadata": {
    "collapsed": false
   }
  },
  {
   "cell_type": "code",
   "execution_count": null,
   "outputs": [],
   "source": [
    "#@markdown Lets repack the sidechains and have a look to see if anything changed\n",
    "#@markdown As we saw on the video sidechains and backbones may differ between bound ligands.\n",
    "\n",
    "#@markdown To do this we pass the pose is altered by a mover (called 'sampler' in some other tools),\n",
    "#@markdown Once an instance of a mover is set up it is applied to a pose with the method\n",
    "#@markdown `mover.apply(pose)`.\n",
    "\n",
    "#@markdown Some do a fixed/deterministic operation or set of operations (some of these with random paramaters).\n",
    "#@markdown Others iterate over and over smaller operations and accept the outcome based on a criterion (cf. Monte Carlo)\n",
    "\n",
    "# select the neighbourhood\n",
    "lig_i = [i+1 for i, r in enumerate(combined.residues) if r.name3() == 'LIG'][-1]\n",
    "lig_sele = prs.ResidueIndexSelector(lig_i)\n",
    "neigh_sele = prs.NeighborhoodResidueSelector(lig_sele, 6, False)\n",
    "\n",
    "# minimise the neighbouring sidechains\n",
    "movemap = pyrosetta.MoveMap()\n",
    "movemap.set_bb(False)\n",
    "movemap.set_jump(False)\n",
    "movemap.set_chi(allow_chi=neigh_sele.apply(combined) )  # repack these sidechains\n",
    "relax: prp.moves.Mover = pyrosetta.rosetta.protocols.relax.FastRelax(scorefxn, 5)\n",
    "relax.set_movemap_disables_packing_of_fixed_chi_positions(True)\n",
    "relax.set_movemap(movemap)\n",
    "relax.apply(combined)\n",
    "\n",
    "# have a gander\n",
    "view = nv.show_rosetta(combined)\n",
    "dtc.add_neighbors(view, '[LIG]', radius=6)\n",
    "view"
   ],
   "metadata": {
    "collapsed": false
   }
  },
  {
   "cell_type": "code",
   "execution_count": null,
   "outputs": [],
   "source": [
    "#@title Distort and dock molecule\n",
    "#@markdown In this section the bound ligand is first wiggled around randomly\n",
    "#@markdown and then its position corrected by docking.\n",
    "#@markdown The details of commands run is not important.\n",
    "\n",
    "from io import StringIO\n",
    "\n",
    "# wiggle the ligand\n",
    "rot_mag_in=180 #@param {type:\"integer\"}\n",
    "trans_mag_in=3 #@param {type:\"integer\"}\n",
    "initial = dtc.add_mol_in_pose(chainA, mol )\n",
    "perturbed: pyrosetta.Pose = initial.clone()\n",
    "pert_mover: prp.moves.Mover = prp.rigid.RigidBodyPerturbNoCenterMover(rb_jump_in=perturbed.num_jump(),\n",
    "                                                                        rot_mag_in=rot_mag_in,\n",
    "                                                                        trans_mag_in=trans_mag_in)\n",
    "pert_mover.apply(perturbed)\n",
    "\n",
    "# dock it\n",
    "docked: pyrosetta.Pose = perturbed.clone()\n",
    "lig_idx: int = [i+1 for i, r in enumerate(docked.residues) if r.name3() == 'LIG'][-1]\n",
    "docked.pdb_info().set_resinfo(res=lig_idx, chain_id='X', pdb_res=1)\n",
    "docked.remove_constraints()\n",
    "pyrosetta.rosetta.protocols.docking.setup_foldtree(docked, 'A_B', pyrosetta.Vector1([1]))\n",
    "docking: prp.moves.Mover = pyrosetta.rosetta.protocols.docking.DockMCMProtocol()\n",
    "docking.set_scorefxn( pyrosetta.create_score_function('ligand') )\n",
    "docking.apply(docked)\n",
    "\n",
    "# separated\n",
    "separated: pyrosetta.Pose = docked.clone()\n",
    "protein, ligand = separated.split_by_chain()\n",
    "ligand.translate()\n",
    "\n",
    "#@markdown PyRosetta can do RMSD calculations, but as RDKit is a more common tool and can do RMSD, we will use that.\n",
    "#@markdown specifically `Chem.rdMolAlign.CalcRMS`, not Chem.rdMolAlign.getBestRMS` as we do not want to align the molecules.\n",
    "#@markdown This holds true even in PyMOL.\n",
    "mol_i: Chem.Mol = Chem.MolFromPDBBlock(ph.get_pdbstr(initial.split_by_chain()[1]))\n",
    "mol_p: Chem.Mol = Chem.MolFromPDBBlock(ph.get_pdbstr(perturbed.split_by_chain()[1]))\n",
    "mol_d: Chem.Mol = Chem.MolFromPDBBlock(ph.get_pdbstr(docked.split_by_chain()[1]))\n",
    "\n",
    "print(f'RMSD of initial vs perturbed', Chem.rdMolAlign.CalcRMS(mol_i, mol_p))\n",
    "print(f'RMSD of initial vs docked', Chem.rdMolAlign.CalcRMS(mol_i, mol_d))\n",
    "\n",
    "import nglview as nv\n",
    "\n",
    "view = nv.show_rosetta(docked, color='gainsboro')\n",
    "view.component_0.add_representation('hyperball', '[LIG]', colorValue='#F8766D')\n",
    "view.add_component(StringIO(Chem.MolToMolBlock(mol)), ext='mol', colorValue='#00B4C4')\n",
    "display(view)\n",
    "#@markdown **Q**: What is a Monte Carlo method? Hint: it is not a method written in monégasque."
   ],
   "metadata": {
    "collapsed": false
   }
  },
  {
   "cell_type": "code",
   "execution_count": null,
   "outputs": [],
   "source": [
    "#@title Create docking algorithm\n",
    "#@markdown TBC\n",
    "#@markdown ...\n",
    "\n",
    "# MonteCarlo object, the RigidBodyMover, PackRotamers, and the MinMover\n",
    "\n",
    "\n",
    "scorefxn = pyrosetta.get_score_function()\n",
    "\n",
    "seq_mover = SequenceMover()\n",
    "n_moves = 1\n",
    "movemap = MoveMap()\n",
    "...\n",
    "# mover for conformer resampling\n",
    "...\n",
    "# mover for small translation\n",
    "...\n",
    "# mover for small rotation\n",
    "...\n",
    "# mover for repacking the sidechains\n",
    "min_mover = MinMover()\n",
    "min_mover.movemap(movemap)\n",
    "min_mover.score_function(scorefxn)\n",
    "seq_mover.add_mover(min_mover)\n",
    "\n",
    "\n",
    "kT = 1.0\n",
    "mc = pyrosetta.MonteCarlo(combined, scorefxn, kT)\n",
    "#mc.boltzmann(pose)\n",
    "trial_mover = TrialMover(seq_mover, mc)\n",
    "trial_mover\n",
    "\n",
    "n_repeats = 10\n",
    "repeat_mover = RepeatMover(trial_mover, n_repeats)\n",
    "repeat_mover.apply(pose)\n",
    "\n",
    "#@markdown **Q**: What is a Monte Carlo method? Hint: it is not a method written in monégasque."
   ],
   "metadata": {
    "collapsed": false
   }
  }
 ],
 "metadata": {
  "kernelspec": {
   "display_name": "Python 3 (ipykernel)",
   "language": "python",
   "name": "python3"
  },
  "language_info": {
   "codemirror_mode": {
    "name": "ipython",
    "version": 3
   },
   "file_extension": ".py",
   "mimetype": "text/x-python",
   "name": "python",
   "nbconvert_exporter": "python",
   "pygments_lexer": "ipython3",
   "version": "3.8.13"
  }
 },
 "nbformat": 4,
 "nbformat_minor": 5
}
