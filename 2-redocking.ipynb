{
 "cells": [
  {
   "cell_type": "markdown",
   "id": "3945a739-2f25-4783-bce9-dad74f5a2ba3",
   "metadata": {},
   "source": []
  },
  {
   "cell_type": "code",
   "execution_count": null,
   "id": "0dde056f-ed8e-47a7-b62b-e8b0c70368d3",
   "metadata": {},
   "outputs": [],
   "source": [
    "target_name = '???'\n",
    "\n",
    "mol_df = pd.read_pickle(f'input/{target_name}_df.p')\n",
    "\n",
    "with open(f'input/{target_name}_reference.clean.pdb') as fh:\n",
    "    pdb_block = fh.read()"
   ]
  },
  {
   "cell_type": "code",
   "execution_count": null,
   "id": "38c00fb7-3d0a-4d6b-9d49-2cd0682d5845",
   "metadata": {},
   "outputs": [],
   "source": []
  }
 ],
 "metadata": {
  "kernelspec": {
   "display_name": "Python 3 (ipykernel)",
   "language": "python",
   "name": "python3"
  },
  "language_info": {
   "codemirror_mode": {
    "name": "ipython",
    "version": 3
   },
   "file_extension": ".py",
   "mimetype": "text/x-python",
   "name": "python",
   "nbconvert_exporter": "python",
   "pygments_lexer": "ipython3",
   "version": "3.8.13"
  }
 },
 "nbformat": 4,
 "nbformat_minor": 5
}
