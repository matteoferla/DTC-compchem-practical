{
 "cells": [
  {
   "cell_type": "markdown",
   "source": [
    "# Docking basics\n",
    "\n",
    "This a notebook intended to be run in Colab. This is notebook 2.\n",
    "\n",
    "1. Intro to RDKit: [![colab demo](https://img.shields.io/badge/Run_RDKit_intro-f9ab00?logo=googlecolab)](https://colab.research.google.com/github/matteoferla/DTC-compchem-practical/blob/main/1-basics.ipynb) — Overview of RDKit functionality\n",
    "2. Intro to Forcefields & docking: [![colab demo](https://img.shields.io/badge/Run_Docking_intro-f9ab00?logo=googlecolab)](https://colab.research.google.com/github/matteoferla/DTC-compchem-practical/blob/main/2-redocking.ipynb) — Overview of forcefields in PyRosetta and redocking\n",
    "3. Merging: [![colab demo](https://img.shields.io/badge/Run_RDKit_intro-f9ab00?logo=googlecolab)](https://colab.research.google.com/github/matteoferla/DTC-compchem-practical/blob/main/3-merging.ipynb) — Expample of merging\n",
    "\n",
    "## Overview\n",
    "In this notebook we will use PyRosetta to glean the basics of forcefields and understand what happens in a docking protocol.\n",
    "Finally we will dock small molecules with known bound structure in order to compare the results with the empirical data."
   ],
   "metadata": {
    "collapsed": false,
    "pycharm": {
     "name": "#%% md\n"
    }
   }
  },
  {
   "cell_type": "markdown",
   "id": "3945a739-2f25-4783-bce9-dad74f5a2ba3",
   "metadata": {},
   "source": [
    "For the analysis, we will use fragment screen data from [Fragalysis](https://fragalysis.diamond.ac.uk/),\n",
    "the app that provides an interface to the various datasets in XChem, prof Frank von Delft's group at Diamond.\n",
    "For what is what consult [this table](https://github.com/matteoferla/munged-Fragalysis-targets/blob/main/targets.md).\n",
    "In this practical we will be using it for the data, but you are welcome to explore it.\n",
    "You will be shown it properly in the Diamond visit.\n",
    "Additionally, a key idea is fragment binding sites are no way of equal important to a researcher,\n",
    "i.e. designing an inhibitor for an enzyme requires knowledge of where and how catalysis occurs.\n",
    "This is also beyond the scope of this practical but worth keeping in mind."
   ]
  },
  {
   "cell_type": "code",
   "execution_count": null,
   "id": "a58b8d4f-4714-4a8a-b6a1-f5806bb64bc0",
   "metadata": {},
   "outputs": [],
   "source": [
    "#@title Installation\n",
    "local_debug = True\n",
    "if local_debug:\n",
    "    raise Exception('CURRENTLY IN DEBUG MODE.... REMEMBER TO CLEAR ALL CELLS!')\n",
    "#@markdown Press the play button on the top right hand side of this cell\n",
    "#@markdown once you have checked the settings.\n",
    "#@markdown You will be notified that this notebook is not from Google, that is normal.\n",
    "\n",
    "## Install all requirements and get some goodies\n",
    "!pip install git+https://github.com/matteoferla/DTC-compchem-practical.git\n",
    "# this will be called as:\n",
    "# import DTC_compchem_practical as dtc\n",
    "\n",
    "## Jupyter lab? use `trident-chemwidgets`\n",
    "!pip install git+https://github.com/matteoferla/JSME_notebook_hack.git\n",
    "!pip install --upgrade plotly\n",
    "\n",
    "# The next line is only valid for today without the Odin+Eduroam network\n",
    "# ie. your IP address is one of these https://help.it.ox.ac.uk/ip-addresses#collapse2202811\n",
    "!pip install https://www.stats.ox.ac.uk/~ferla/pyrosetta-2022.46+release.f0c6fca0e2f-cp39-cp39-linux_x86_64.whl\n",
    "# Normally you have different ways of installing pyrosetta, e.g.\n",
    "# pip install pyrosetta_help\n",
    "# PYROSETTA_USERNAME=👾👾👾 PYROSETTA_PASSWORD=👾👾👾 install_pyrosetta\n",
    "\n",
    "from google.colab import output  # noqa (It's a colaboratory specific repo)\n",
    "output.enable_custom_widget_manager()"
   ]
  },
  {
   "cell_type": "code",
   "execution_count": null,
   "id": "0dde056f-ed8e-47a7-b62b-e8b0c70368d3",
   "metadata": {},
   "outputs": [],
   "source": [
    "#@title Download off Fragalysis\n",
    "#@markdown Choose a target\n",
    "target_name = '👾👾👾'   #@param {type:\"string\"}\n",
    "if local_debug:\n",
    "    target_name = 'MID2A'\n",
    "\n",
    "from rdkit import Chem\n",
    "from IPython.display import display\n",
    "from typing import Dict\n",
    "import DTC_compchem_practical as dtc\n",
    "\n",
    "#@markdown This will add the variables `pdb_filename`, `metadata_filename` and `sdf_filename`.\n",
    "filenames: Dict[str, str] = dtc.download_fragalysis(target_name, 'input')\n",
    "pdb_filename: str = filenames['reference.pdb']\n",
    "metadata_filename: str = filenames['metadata.csv']\n",
    "sdf_filename: str = filenames['combined.sdf']"
   ]
  },
  {
   "cell_type": "code",
   "execution_count": null,
   "outputs": [],
   "source": [
    "#@title Make an apo structure\n",
    "#@markdown Next we crudely remove HETATM record lines to get an apo structure.\n",
    "#@markdown [PDB file format](https://www.wwpdb.org/documentation/file-format-content/format33/v3.3.html)\n",
    "#@markdown **Q**: what is stored in a HETATM?\n",
    "#@markdown **Q**: what is an \"apo structure\"?\n",
    "#@markdown This is quick, but not great approach.\n",
    "#@markdown **Q**: Why is this so, and what could be done to fix it?\n",
    "from io import StringIO\n",
    "with open(pdb_filename) as fh:\n",
    "    pdb_block:str = fh.read()\n",
    "\n",
    "apo_block = '\\n'.join(filter(lambda l: 'HETATM' not in l , pdb_block.split('\\n')))\n",
    "\n",
    "with open(f'input/{target_name}_reference.clean.pdb', 'w') as fh:\n",
    "    fh.write(apo_block)\n",
    "\n",
    "# This is w/o ligand\n",
    "import nglview as nv\n",
    "\n",
    "view = nv.NGLWidget()\n",
    "# change `apo_block` to `pdb_block` for the original:\n",
    "view.add_component(StringIO(apo_block), ext='pdb')\n",
    "view"
   ],
   "metadata": {
    "collapsed": false,
    "pycharm": {
     "name": "#%%\n"
    }
   }
  },
  {
   "cell_type": "code",
   "execution_count": null,
   "outputs": [],
   "source": [
    "#@title Make a combined table\n",
    "#@markdown Fragalysis does not give attributes in the sdf entries. This is instead stored in `metadata.csv`.\n",
    "\n",
    "from rdkit import Chem\n",
    "from rdkit.Chem import PandasTools\n",
    "import pandas as pd\n",
    "\n",
    "mol_df = pd.concat([PandasTools.LoadSDF(sdf_filename).set_index('ID'),\n",
    "                       pd.read_csv(metadata_filename, index_col=0).set_index('crystal_name')\n",
    "                      ], axis=1)\n",
    "mol_df.to_pickle(f'input/{target_name}_df.p')\n",
    "\n",
    "mol_df"
   ],
   "metadata": {
    "collapsed": false,
    "pycharm": {
     "name": "#%%\n"
    }
   }
  },
  {
   "cell_type": "code",
   "execution_count": null,
   "outputs": [],
   "source": [
    "#@title Initialise Pyrosetta\n",
    "import pyrosetta, logging\n",
    "import pyrosetta_help as ph\n",
    "\n",
    "import types\n",
    "prn: types.ModuleType = pyrosetta.rosetta.numeric\n",
    "prc: types.ModuleType = pyrosetta.rosetta.core\n",
    "prp: types.MethodType = pyrosetta.rosetta.protocols\n",
    "\n",
    "\n",
    "# capture to log\n",
    "logger = ph.configure_logger()\n",
    "logger.handlers[0].setLevel(logging.ERROR)  # logging.WARNING = 30\n",
    "extra_options = ph.make_option_string(no_optH=False,\n",
    "                                      ex1=None,\n",
    "                                      ex2=None,\n",
    "                                      mute='all',\n",
    "                                      ignore_unrecognized_res=False,\n",
    "                                      load_PDB_components=False,\n",
    "                                      ignore_waters=True)\n",
    "pyrosetta.init(extra_options=extra_options)\n",
    "\n",
    "pose = pyrosetta.Pose()\n",
    "pyrosetta.rosetta.core.import_pose.pose_from_pdbstring(pose, apo_block)"
   ],
   "metadata": {
    "collapsed": false,
    "pycharm": {
     "name": "#%%\n"
    }
   }
  },
  {
   "cell_type": "code",
   "execution_count": null,
   "outputs": [
    {
     "ename": "NameError",
     "evalue": "name 'Chem' is not defined",
     "output_type": "error",
     "traceback": [
      "\u001B[0;31m---------------------------------------------------------------------------\u001B[0m",
      "\u001B[0;31mNameError\u001B[0m                                 Traceback (most recent call last)",
      "Input \u001B[0;32mIn [1]\u001B[0m, in \u001B[0;36m<cell line: 10>\u001B[0;34m()\u001B[0m\n\u001B[1;32m      1\u001B[0m \u001B[38;5;66;03m#@title Residue Topology\u001B[39;00m\n\u001B[1;32m      2\u001B[0m \u001B[38;5;66;03m#@markdown As seen previously a molecule is a graph network where the nodes (atoms) may be connected by edges (bonds),\u001B[39;00m\n\u001B[1;32m      3\u001B[0m \u001B[38;5;66;03m#@markdown And the nodes/atoms have a partial charges property.\u001B[39;00m\n\u001B[0;32m   (...)\u001B[0m\n\u001B[1;32m      6\u001B[0m \u001B[38;5;66;03m#@markdown While other tools have different formats. Rosetta has `.param` files, which adds atom types and the relationship between\u001B[39;00m\n\u001B[1;32m      7\u001B[0m \u001B[38;5;66;03m#@markdown atoms in dihedral space, not cartesian.\u001B[39;00m\n\u001B[1;32m      8\u001B[0m \u001B[38;5;28;01mfrom\u001B[39;00m \u001B[38;5;21;01mrdkit_to_params\u001B[39;00m \u001B[38;5;28;01mimport\u001B[39;00m Params\n\u001B[0;32m---> 10\u001B[0m topo \u001B[38;5;241m=\u001B[39m Params\u001B[38;5;241m.\u001B[39mconvert_mol(\u001B[43mChem\u001B[49m\u001B[38;5;241m.\u001B[39mMolFromSmiles(\u001B[38;5;124m'\u001B[39m\u001B[38;5;124mCCO\u001B[39m\u001B[38;5;124m'\u001B[39m), name\u001B[38;5;241m=\u001B[39m\u001B[38;5;124m'\u001B[39m\u001B[38;5;124mLIG\u001B[39m\u001B[38;5;124m'\u001B[39m)\n\u001B[1;32m     11\u001B[0m \u001B[38;5;28mprint\u001B[39m(topo)\n",
      "\u001B[0;31mNameError\u001B[0m: name 'Chem' is not defined"
     ]
    }
   ],
   "source": [
    "#@title Residue Topology\n",
    "#@markdown As seen previously a molecule is a graph network where the nodes (atoms) may be connected by edges (bonds),\n",
    "#@markdown And the nodes/atoms have a partial charges property.\n",
    "#@markdown In molecular mechanics, blocks of atoms are called 'residues', be they ligands or polymer units.\n",
    "#@markdown When dealing with several algorithms, such as those using forcefields, the residue needs to be \"prepared\",\n",
    "#@markdown by adding how it bonds and its charges. Autodock uses a pdbqt format, which extends the PDB format with partial charge and atom types.\n",
    "#@markdown While other tools have different formats. Rosetta has `.param` files, which adds atom types and the relationship between\n",
    "#@markdown atoms in dihedral space, not cartesian.\n",
    "#@markdown A reside type / topology is the universal definition of a residue, not a specific residue.\n",
    "\n",
    "#@markdown This cell outputs the params file for the molecule 'CO' (methanol).\n",
    "#@markdown The format is specific to this toolkit, but the idea is common:\n",
    "#@markdown for an atom you need an atomname and a partial charge and... an 'atomtype'.\n",
    "#@markdown an atomtype combines element, hybridisation, VdW radius, etc. Similarly to a residuetype, it is a universal and not a specific residue.\n",
    "from rdkit_to_params import Params\n",
    "\n",
    "topo = Params.from_smiles('CO', name='LIG')\n",
    "display(topo)\n",
    "\n",
    "#@markdown **Q**: Why does the partial charge reside in an atom of a residue type not an atom type?\n",
    "#@markdown **Q**: Why is bond order often absent in residue types/topologies?"
   ],
   "metadata": {
    "collapsed": false,
    "pycharm": {
     "name": "#%%\n"
    }
   }
  },
  {
   "cell_type": "code",
   "execution_count": null,
   "outputs": [],
   "source": [
    "#@title Atomtype inspection\n",
    "#@markdown Let's have a gander of what AtomTypes look like\n",
    "import importlib_resources\n",
    "\n",
    "print(\n",
    "    importlib_resources.read_text('pyrosetta.database.chemical.atom_type_sets.fa_standard', 'atom_properties.txt')\n",
    ")\n",
    "#@markdown **Q**: Why is bond order often absent in residue types/topologies?"
   ],
   "metadata": {
    "collapsed": false,
    "pycharm": {
     "name": "#%%\n"
    }
   }
  },
  {
   "cell_type": "code",
   "execution_count": null,
   "outputs": [],
   "source": [
    "#@title Forcefields\n",
    "#@markdown A forcefield is made of various terms. A key one is [Lenard-Jones term](https://en.wikipedia.org/wiki/Lennard-Jones_potential).\n",
    "import DTC_compchem_practical as dtc\n",
    "import numpy as np\n",
    "import pandas as pd\n",
    "\n",
    "combined_scores = {}\n",
    "for offset in np.arange(0,10, 0.1):\n",
    "    test: pyrosetta.Pose = pyrosetta.pose_from_sequence('Z[NA]')\n",
    "    xyz = prn.xyzVector_double_t(test.residues[1].xyz(1))\n",
    "    xyz.x +=offset\n",
    "    dtc.add_mod_cl(test,\n",
    "                   gasteiger=-1,\n",
    "                   xyz = xyz)\n",
    "    scorefxn = pyrosetta.get_fa_scorefxn()\n",
    "    scores = {st.name: scorefxn.score_by_scoretype(test, st, True) for st in scorefxn.get_nonzero_weighted_scoretypes()}\n",
    "    scores['distance'] = (test.residue(1).xyz(1) - test.residue(2).xyz(1)).norm()\n",
    "    combined_scores[offset] = scores\n",
    "\n",
    "df = pd.DataFrame.from_dict(combined_scores, orient='index').round(2)\n",
    "ndf=(df-df.min())/(df.max()-df.min())\n",
    "#ndf.columns = map(ph.weights.term_meanings, ndf.columns.values)\n",
    "import plotly.express as px\n",
    "\n",
    "px.line(df)"
   ],
   "metadata": {
    "collapsed": false,
    "pycharm": {
     "name": "#%%\n"
    }
   }
  },
  {
   "cell_type": "code",
   "execution_count": null,
   "outputs": [],
   "source": [
    "#@markdown for a dictionary\n",
    "ph.weights.term_meanings"
   ],
   "metadata": {
    "collapsed": false,
    "pycharm": {
     "name": "#%%\n"
    }
   }
  },
  {
   "cell_type": "code",
   "execution_count": null,
   "outputs": [],
   "source": [
    "#@title Place molecule\n",
    "import types\n",
    "prc: types.ModuleType = pyrosetta.rosetta.core\n",
    "from io import StringIO\n",
    "\n",
    "# the first molecule\n",
    "mol = mol_df.ROMol[0]\n",
    "# add it to the pose\n",
    "# let's pretend by magic:\n",
    "combined = dtc.add_mol_in_pose(pose, mol )\n",
    "# don't worry about these few lines,\n",
    "# except for the word MC\n",
    "lig_i = [i+1 for i, r in enumerate(combined.residues) if r.name3() == 'LIG'][-1]\n",
    "combined.pdb_info().set_resinfo(res=lig_i, chain_id='B', pdb_res=1)\n",
    "combined.remove_constraints()\n",
    "pyrosetta.rosetta.protocols.docking.setup_foldtree(combined, 'A_B', pyrosetta.Vector1([1]))\n",
    "scorefxn = pyrosetta.create_score_function('ligand')\n",
    "docking = pyrosetta.rosetta.protocols.docking.DockMCMProtocol()\n",
    "docking.set_scorefxn(scorefxn)\n",
    "docking.apply(combined)\n",
    "\n",
    "# combined\n",
    "\n",
    "import nglview as nv\n",
    "\n",
    "view = nv.show_rosetta(combined, color='gainsboro')\n",
    "view.component0.add_representation('hyperball', '[LIG]', colorValue='#F8766D')\n",
    "view.add_component(StringIO(Chem.MolToMolBlock(mol)), colorValue='#00B4C4')\n",
    "display(view)\n",
    "#@markdown **Q**: What is a Monte Carlo method? Hint: it is not a method written in monégasque."
   ],
   "metadata": {
    "collapsed": false,
    "pycharm": {
     "name": "#%%\n"
    }
   }
  },
  {
   "cell_type": "code",
   "execution_count": null,
   "outputs": [],
   "source": [
    "#@title Create docking algorithm\n",
    "#@markdown ...\n",
    "#@markdown ...\n",
    "\n",
    "#@markdown **Q**: What is a Monte Carlo method? Hint: it is not a method written in monégasque."
   ],
   "metadata": {
    "collapsed": false,
    "pycharm": {
     "name": "#%%\n"
    }
   }
  }
 ],
 "metadata": {
  "kernelspec": {
   "display_name": "Python 3 (ipykernel)",
   "language": "python",
   "name": "python3"
  },
  "language_info": {
   "codemirror_mode": {
    "name": "ipython",
    "version": 3
   },
   "file_extension": ".py",
   "mimetype": "text/x-python",
   "name": "python",
   "nbconvert_exporter": "python",
   "pygments_lexer": "ipython3",
   "version": "3.8.13"
  }
 },
 "nbformat": 4,
 "nbformat_minor": 5
}