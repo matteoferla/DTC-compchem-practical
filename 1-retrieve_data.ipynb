{
 "cells": [
  {
   "cell_type": "markdown",
   "id": "2634c98b-be4a-43e3-bea5-b4d2c2a4afd9",
   "metadata": {},
   "source": [
    "For the analysis, we will use fragment screen data from [Fragalysis](https://fragalysis.diamond.ac.uk/),\n",
    "the app that provides an interface to the various datasets in XChem, prof Frank von Delft's group at Diamond.\n",
    "For what is what consult [this table](https://github.com/matteoferla/munged-Fragalysis-targets/blob/main/targets.md).\n",
    "In this practical we will be using it for the data, but you are welcome to explore it.\n",
    "You will be shown it properly in the Diamond visit.\n",
    "Additionally, a key idea is fragment binding sites are no way of equal important to a researcher,\n",
    "i.e. designing an inhibitor for an enzyme requires knowledge of where and how catalysis occurs.\n",
    "This is also beyond the scope of this practical but worth keeping in mind."
   ]
  },
  {
   "cell_type": "markdown",
   "id": "9d4d72c8-5d30-41e8-985f-431e2a608d45",
   "metadata": {},
   "source": [
    "## Jupyter basics\n",
    "A notebook is composed of 'cells'.\n",
    "This is a markdown cell, it is for words, the next is for code.\n",
    "The code cells can be run by pressing the play button at the top or shift+Enter.\n",
    "You can freely change things as you will have to in the next cell.\n",
    "\n",
    "You have several varieties of notebooks:\n",
    "\n",
    "* (original=vanilla) Jupyter notebook, runs on your machine\n",
    "* Jupyter lab, newer version of the above\n",
    "* Colab, run on Google cloud\n",
    "* Jupyter hub, the multiuser version of Jupyter\n",
    "\n",
    "Not sure how to use a python object? Make a cell a type `help(🤖)` where 🤖 is the object.\n",
    "(No, you cannot use emoji as variables in Python).\n",
    "In this notebook, the imported module `dtc` will have `dtc.show_source(🤖)` will show the source code in a colourful way."
   ]
  },
  {
   "cell_type": "code",
   "execution_count": null,
   "outputs": [],
   "source": [
    "#@title Installation\n",
    "#@markdown Press the play button on the top right hand side of this cell\n",
    "#@markdown once you have checked the settings.\n",
    "#@markdown You will be notified that this notebook is not from Google, that is normal.\n",
    "\n",
    "## Install all requirements and get some goodies\n",
    "!pip install git+https://github.com/matteoferla/DTC-compchem-practical.git\n",
    "# this will be called as:\n",
    "# import DTC_compchem_practical as dtc\n",
    "\n",
    "## Jupyter lab? use `trident-chemwidgets`\n",
    "!pip install git+https://github.com/matteoferla/JSME_notebook_hack.git\n",
    "!pip install --upgrade plotly\n",
    "\n",
    "from google.colab import output  # noqa (It's a colaboratory specific repo)\n",
    "output.enable_custom_widget_manager()"
   ],
   "metadata": {
    "collapsed": false,
    "pycharm": {
     "name": "#%%\n"
    }
   }
  },
  {
   "cell_type": "code",
   "execution_count": null,
   "outputs": [],
   "source": [
    "#@title RDKit\n",
    "#@markdown Let's play with a molecule.\n",
    "#@markdown Go to Wikipedia and\n",
    "#@markdown search for a molecules and copy it's SMILEString from the infobox.\n",
    "\n",
    "mol_name: str =  '👾👾👾'   #@param {type:\"string\"}\n",
    "smiles: str =  '👾👾👾'   #@param {type:\"string\"}\n",
    "#@markdown **Q**: what is 'RDKit'?\n",
    "#@markdown **Q**: what is a 'SMILEString'?"
   ],
   "metadata": {
    "collapsed": false,
    "pycharm": {
     "name": "#%%\n"
    }
   }
  },
  {
   "cell_type": "code",
   "execution_count": null,
   "outputs": [],
   "source": [
    "#@markdown Let's load it into RDKit:\n",
    "from IPython.display import display\n",
    "from rdkit import Chem\n",
    "\n",
    "#RDKit can and will misbehave in Colab unless this line is called to activate it\n",
    "from rdkit.Chem.Draw import IPythonConsole\n",
    "\n",
    "mol: Chem.Mol = Chem.MolFromSmiles(smiles)\n",
    "mol.SetProp('_Name', mol_name)\n",
    "display(mol)"
   ],
   "metadata": {
    "collapsed": false,
    "pycharm": {
     "name": "#%%\n"
    }
   }
  },
  {
   "cell_type": "code",
   "execution_count": null,
   "outputs": [],
   "source": [
    "#@markdown Let's look at its partial charges\n",
    "from rdkit.Chem.Draw import SimilarityMaps\n",
    "from rdkit.Chem import AllChem\n",
    "#@markdown via `rdkit.Chem.AllChem.ComputeGasteigerCharges`\n",
    "AllChem.ComputeGasteigerCharges(mol)\n",
    "contribs = [a.GetDoubleProp('_GasteigerCharge') for a in mol.GetAtoms()]\n",
    "#@markdown PS. If you dislike the colours,\n",
    "#@markdown choose a different [colorMap](https://matplotlib.org/stable/tutorials/colors/colormaps.html)\n",
    "fig = SimilarityMaps.GetSimilarityMapFromWeights(alt_mol, contribs, colorMap='jet', contourLines=10)\n",
    "\n",
    "display(fig)\n",
    "#@markdown **Q**: In addition to Marsili-Gasteiger partial charges, there is another form of partial charges, what is it?"
   ],
   "metadata": {
    "collapsed": false,
    "pycharm": {
     "name": "#%%\n"
    }
   }
  },
  {
   "cell_type": "code",
   "execution_count": null,
   "outputs": [],
   "source": [
    "## Conformer generation"
   ],
   "metadata": {
    "collapsed": false,
    "pycharm": {
     "name": "#%%\n"
    }
   }
  },
  {
   "cell_type": "code",
   "execution_count": null,
   "outputs": [],
   "source": [
    "#@markdown Test: distort molecule and Constrained MMFF\n",
    "import nglview as nv\n",
    "from rdkit.Chem import rdMolAlign\n",
    "from io import StringIO\n",
    "\n",
    "\n",
    "from rdkit.Geometry import Point3D\n",
    "\n",
    "def shift_atom_x(conf: Chem.Conformer, atom_idx:0, x_offset: float=0, y_offset: float=0, z_offset: float=0):\n",
    "    \"\"\"\n",
    "    Shifts atom indexed ``atom_idx`` in ``conf`` by ``(atom_idx)``\n",
    "    \"\"\"\n",
    "    p: Point3D = conf.GetAtomPosition(atom_idx)\n",
    "    # let's shift it by 2Å on atom 0 on axis x\n",
    "    new_p: Point3D = Point3D(p.x + x_offset, p.y + y_offset, p.z + z_offset)\n",
    "    conf.SetAtomPosition(atom_idx, new_p)\n",
    "\n",
    "# make 3D\n",
    "mol2 = AllChem.AddHs(mol)\n",
    "AllChem.EmbedMolecule(mol2)\n",
    "conf = mol2.GetConformer()\n",
    "\n",
    "#@markdown Run this and the next cell a few times and change the constraints!\n",
    "# Please tinker with these values:\n",
    "shift_atom_x(conf, atom_idx=0, x_offset=2)\n",
    "shift_atom_x(conf, atom_idx=1, y_offset=1)\n",
    "\n",
    "\n",
    "## ----------------------------------------------------------------------------\n",
    "\n",
    "Chem.SanitizeMol(mol2)\n",
    "\n",
    "p = AllChem.MMFFGetMoleculeProperties(mol2, 'MMFF94')\n",
    "if p is None:\n",
    "    raise ValueError(f'MMFF cannot work on a molecule that has errors!')\n",
    "\n",
    "ff = AllChem.MMFFGetMoleculeForceField(mol2, p)\n",
    "# restrain\n",
    "for atom in mol.GetAtomsMatchingQuery(Chem.rdqueries.HasPropQueryAtom('Fixed', negate=False)):\n",
    "    i = atom.GetIdx()\n",
    "    # Atom cannot move beyond 2 Aangstroems\n",
    "    ff.MMFFAddPositionConstraint(i, 2, 10)\n",
    "pre: float = ff.CalcEnergy()\n",
    "outcomes = {-1: 'MMFF Minisation could not be started',\n",
    "            0: 'MMFF Minisation was successful',\n",
    "            1: 'MMFF Minisation was run, but the minimisation was not unsuccessful'}\n",
    "try:\n",
    "    m: int = ff.Minimize()\n",
    "    print(outcomes.get(m, \"Iä! Iä! Cthulhu fhtagn! Ph'nglui mglw'nafh Cthulhu R'lyeh wgah'nagl fhtagn\"))\n",
    "except RuntimeError as error:\n",
    "    print(f'MMFF minimisation failed {error.__class__.__name__}: {error}')\n",
    "\n",
    "post: float = ff.CalcEnergy()\n",
    "print(f'∆G went from {pre} to {post} kcal/mol')\n",
    "rdMolAlign.AlignMol(mol2, mol)\n",
    "view = nv.show_rdkit(mol)\n",
    "fh = StringIO(Chem.MolToPDBBlock(mol2))\n",
    "view.add_component(fh, ext='mol')\n",
    "\n",
    "display(view)\n",
    "#@markdown **Q**: Why is there a drop in Gibbs free energy (a potential)?\n",
    "#@markdown **Q**: How does this relate to entropy of the system (think chelate effect)?\n",
    "#@markdown **Q**: What does `AllChem.EmbedMolecule` do?\n",
    "#@markdown **Q**: What is the difference between a Chem.Mol instance and its Chem.Conformer(s)? Why does the latter have atomic positions?"
   ],
   "metadata": {
    "collapsed": false,
    "pycharm": {
     "name": "#%%\n"
    }
   }
  },
  {
   "cell_type": "code",
   "execution_count": null,
   "outputs": [],
   "source": [],
   "metadata": {
    "collapsed": false,
    "pycharm": {
     "name": "#%%\n"
    }
   }
  },
  {
   "cell_type": "code",
   "execution_count": null,
   "outputs": [],
   "source": [],
   "metadata": {
    "collapsed": false,
    "pycharm": {
     "name": "#%%\n"
    }
   }
  },
  {
   "cell_type": "code",
   "execution_count": null,
   "outputs": [],
   "source": [],
   "metadata": {
    "collapsed": false,
    "pycharm": {
     "name": "#%%\n"
    }
   }
  },
  {
   "cell_type": "code",
   "execution_count": null,
   "outputs": [],
   "source": [],
   "metadata": {
    "collapsed": false,
    "pycharm": {
     "name": "#%%\n"
    }
   }
  },
  {
   "cell_type": "code",
   "execution_count": null,
   "outputs": [],
   "source": [],
   "metadata": {
    "collapsed": false,
    "pycharm": {
     "name": "#%%\n"
    }
   }
  },
  {
   "cell_type": "code",
   "execution_count": null,
   "outputs": [],
   "source": [],
   "metadata": {
    "collapsed": false,
    "pycharm": {
     "name": "#%%\n"
    }
   }
  },
  {
   "cell_type": "code",
   "execution_count": null,
   "outputs": [],
   "source": [
    "#@title Download off Fragalysis\n",
    "#@markdown Choose a target\n",
    "target_name = '👾👾👾'   #@param {type:\"string\"}\n",
    "\n",
    "from rdkit import Chem\n",
    "from IPython.display import display\n",
    "from typing import Dict\n",
    "import DTC_compchem_practical as dtc\n",
    "\n",
    "#@markdown This will add the variables `pdb_filename`, `metadata_filename` and `sdf_filename`.\n",
    "filenames: Dict[str, str] = dtc.download_fragalysis(target_name, 'input')\n",
    "pdb_filename: str = filenames['reference.pdb']\n",
    "metadata_filename: str = filenames['metadata.csv']\n",
    "sdf_filename: str = filenames['combined.sdf']"
   ],
   "metadata": {
    "collapsed": false,
    "pycharm": {
     "name": "#%%\n"
    }
   }
  },
  {
   "cell_type": "code",
   "execution_count": null,
   "id": "c16b6f5d-c42d-4f3c-bb84-6d1b26a9416c",
   "metadata": {},
   "outputs": [],
   "source": [
    "import nglview as nv\n",
    "import io\n",
    "import numpy as np\n",
    "\n",
    "max_show = 100\n",
    "df = mol_df\n",
    "#df = mol_df.drop_duplicates('site_name')  # filter if wanted\n",
    "    \n",
    "view = nv.NGLWidget()\n",
    "\n",
    "view.add_component(io.StringIO(pdb_block), ext='pdb')\n",
    "for mol in df.ROMol[:max_show]:\n",
    "    fh = io.StringIO(Chem.MolToMolBlock(mol))\n",
    "    view.add_component(fh, ext='mol')\n",
    "#view.control.zoom(1.)\n",
    "view"
   ]
  },
  {
   "cell_type": "code",
   "execution_count": null,
   "id": "bceebf24-867c-45ed-99a9-ce183906e27d",
   "metadata": {},
   "outputs": [],
   "source": [
    "from misc_funs import calc_distances, distance_heatmap\n",
    "from rdkit.Chem import PandasTools, rdShapeHelpers, rdmolops, Descriptors\n",
    "import plotly.graph_objects as go\n",
    "\n",
    "# filter if wanted\n",
    "df = mol_df\n",
    "#df = mol_df.drop_duplicates('site_name')\n",
    "\n",
    "# this is not working!\n",
    "#from misc_funs import distance_heatmap\n",
    "#distance_heatmap( df )\n",
    "\n",
    "mols = df.ROMol.apply(rdmolops.AddHs)\n",
    "matrix: np.array = calc_distances(mols)\n",
    "go.Figure(data=go.Heatmap(\n",
    "                            x = mols.apply(lambda m: m.GetProp('_Name')).tolist(),\n",
    "                            y = mols.apply(lambda m: m.GetProp('_Name')).tolist(),\n",
    "                            z = matrix,\n",
    "                            colorscale = 'hot'\n",
    "                        )\n",
    "         )\n",
    "\n"
   ]
  },
  {
   "cell_type": "markdown",
   "id": "94ad4414-627a-49c5-9aa0-766ac3f60dc3",
   "metadata": {},
   "source": [
    "## Questions\n",
    "\n",
    "* How many small molecules are there?\n",
    "* How many sites?\n",
    "* If you have a dimer, what do you see as a problem?\n",
    "* What data would you like to see in the above table and why?\n",
    "* The above simply gets the molecular replacement template as the target. Is that wise?\n",
    "* The table has a `site_name` column. What would be a good approach to choose what sites to focus on?"
   ]
  },
  {
   "cell_type": "code",
   "execution_count": null,
   "id": "52584636-afa7-46fe-ac49-8a7255faedc7",
   "metadata": {},
   "outputs": [],
   "source": []
  }
 ],
 "metadata": {
  "kernelspec": {
   "display_name": "Python 3 (ipykernel)",
   "language": "python",
   "name": "python3"
  },
  "language_info": {
   "codemirror_mode": {
    "name": "ipython",
    "version": 3
   },
   "file_extension": ".py",
   "mimetype": "text/x-python",
   "name": "python",
   "nbconvert_exporter": "python",
   "pygments_lexer": "ipython3",
   "version": "3.8.13"
  }
 },
 "nbformat": 4,
 "nbformat_minor": 5
}