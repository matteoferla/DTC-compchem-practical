{
 "cells": [
  {
   "cell_type": "markdown",
   "id": "2634c98b-be4a-43e3-bea5-b4d2c2a4afd9",
   "metadata": {},
   "source": [
    "For the analysis, we will use fragment screen data from [Fragalysis](https://fragalysis.diamond.ac.uk/),\n",
    "the app that provides an interface to the various datasets in XChem, prof Frank von Delft's group at Diamond.\n",
    "For what is what consult [this table](https://github.com/matteoferla/munged-Fragalysis-targets/blob/main/targets.md).\n",
    "In this practical we will be using it for the data, but you are welcome to explore it.\n",
    "You will be shown it properly in the Diamond visit.\n",
    "Additionally, a key idea is fragment binding sites are no way of equal important to a researcher,\n",
    "i.e. designing an inhibitor for an enzyme requires knowledge of where and how catalysis occurs.\n",
    "This is also beyond the scope of this practical but worth keeping in mind."
   ]
  },
  {
   "cell_type": "markdown",
   "id": "9d4d72c8-5d30-41e8-985f-431e2a608d45",
   "metadata": {},
   "source": [
    "## Jupyter basics\n",
    "A notebook is composed of 'cells'.\n",
    "This is a markdown cell, it is for words.\n",
    "The code cells can be run by pressing the play button at the top or shift+Enter.\n",
    "You can freely change things as you will have to in the next cell."
   ]
  },
  {
   "cell_type": "code",
   "execution_count": null,
   "id": "92976f40-6ee6-4bb0-aa4d-3bc7e2f586e2",
   "metadata": {},
   "outputs": [],
   "source": [
    "# What target did you pick?\n",
    "target_name = 'MID2A'\n",
    "\n",
    "# =====================================================================\n",
    "from typing import Dict\n",
    "from rdkit import Chem\n",
    "from rdkit.Chem import PandasTools\n",
    "import pandas as pd\n",
    "from misc_funs import download_fragalysis  # misc_funs is the local module misc_funs.py\n",
    "\n",
    "# download all molecules of that target\n",
    "filenames: Dict[str, str] = download_fragalysis(target_name, 'input')\n",
    "pdb_filename: str = filenames['reference.pdb']\n",
    "metadata_filename: str = filenames['metadata.csv']\n",
    "sdf_filename: str = filenames['combined.sdf']\n",
    "# make a combined table\n",
    "# Fragalysis does not give attributes in the sdf entries. This is instead stored in metadata.csv.\n",
    "\n",
    "mol_df = pd.concat([PandasTools.LoadSDF(sdf_filename).set_index('ID'),\n",
    "                       pd.read_csv(metadata_filename, index_col=0).set_index('crystal_name')\n",
    "                      ], axis=1)\n",
    "mol_df.to_pickle(f'input/{target_name}_df.p')\n",
    "mol_df"
   ]
  },
  {
   "cell_type": "code",
   "execution_count": null,
   "id": "9ed403ff-957a-444e-821a-a62314db407a",
   "metadata": {},
   "outputs": [],
   "source": [
    "with open(pdb_filename) as fh:\n",
    "    pdb_block:str = fh.read()\n",
    "    \n",
    "pdb_block = '\\n'.join(filter(lambda l: 'HETATM' not in l , pdb_block.split('\\n')))\n",
    "\n",
    "with open(f'input/{target_name}_reference.clean.pdb', 'w') as fh:\n",
    "    fh.write(pdb_block)"
   ]
  },
  {
   "cell_type": "code",
   "execution_count": null,
   "id": "c16b6f5d-c42d-4f3c-bb84-6d1b26a9416c",
   "metadata": {},
   "outputs": [],
   "source": [
    "import nglview as nv\n",
    "import io\n",
    "import numpy as np\n",
    "\n",
    "max_show = 100\n",
    "df = mol_df\n",
    "#df = mol_df.drop_duplicates('site_name')  # filter if wanted\n",
    "    \n",
    "view = nv.NGLWidget()\n",
    "\n",
    "view.add_component(io.StringIO(pdb_block), ext='pdb')\n",
    "for mol in df.ROMol[:max_show]:\n",
    "    fh = io.StringIO(Chem.MolToMolBlock(mol))\n",
    "    view.add_component(fh, ext='mol')\n",
    "#view.control.zoom(1.)\n",
    "view"
   ]
  },
  {
   "cell_type": "code",
   "execution_count": null,
   "id": "bceebf24-867c-45ed-99a9-ce183906e27d",
   "metadata": {},
   "outputs": [],
   "source": [
    "from misc_funs import calc_distances, distance_heatmap\n",
    "from rdkit.Chem import PandasTools, rdShapeHelpers, rdmolops, Descriptors\n",
    "import plotly.graph_objects as go\n",
    "\n",
    "# filter if wanted\n",
    "df = mol_df\n",
    "#df = mol_df.drop_duplicates('site_name')\n",
    "\n",
    "# this is not working!\n",
    "#from misc_funs import distance_heatmap\n",
    "#distance_heatmap( df )\n",
    "\n",
    "mols = df.ROMol.apply(rdmolops.AddHs)\n",
    "matrix: np.array = calc_distances(mols)\n",
    "go.Figure(data=go.Heatmap(\n",
    "                            x = mols.apply(lambda m: m.GetProp('_Name')).tolist(),\n",
    "                            y = mols.apply(lambda m: m.GetProp('_Name')).tolist(),\n",
    "                            z = matrix,\n",
    "                            colorscale = 'hot'\n",
    "                        )\n",
    "         )\n",
    "\n"
   ]
  },
  {
   "cell_type": "code",
   "execution_count": null,
   "id": "ee37da8a-9af8-44e4-be28-bb8286298171",
   "metadata": {},
   "outputs": [],
   "source": [
    "## Questions\n",
    "\n",
    "* How many molecules are there?\n",
    "* How many sites?\n",
    "* If you have a dimer, what do you see as a problem?\n",
    "* What data would you like to see in the above table and why?\n",
    "* The above simply gets the molecular replacement template as the target. Is that wise?\n",
    "* The table has a `site_name` column. What would be a good approach to choose what sites to focus on?"
   ]
  }
 ],
 "metadata": {
  "kernelspec": {
   "display_name": "Python 3 (ipykernel)",
   "language": "python",
   "name": "python3"
  },
  "language_info": {
   "codemirror_mode": {
    "name": "ipython",
    "version": 3
   },
   "file_extension": ".py",
   "mimetype": "text/x-python",
   "name": "python",
   "nbconvert_exporter": "python",
   "pygments_lexer": "ipython3",
   "version": "3.8.13"
  }
 },
 "nbformat": 4,
 "nbformat_minor": 5
}
