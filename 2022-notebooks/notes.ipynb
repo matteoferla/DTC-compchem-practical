{
 "cells": [
  {
   "cell_type": "markdown",
   "id": "11d034b6-c3a0-4dbc-9cc6-2ed52979b152",
   "metadata": {},
   "source": [
    "## JSME\n",
    "\n",
    "JSME (JS molecular editor) is an pre ES6 JS editor that is a bit fiddly to use as a widget as is.\n",
    "It has an iconic button with a smiley face for smiles.\n",
    "Marvin is a newer more swanky tool, but requires a Python server to do the calculations, so cannot be made into a widget with ease.\n",
    "\n",
    "There are different implementation, as there are three flavours of notebook: vanilla jupyter, jupyter lab and colab. These interact w/ JS differently Blog post I wrote about the boring technicalities: https://blog.matteoferla.com/2022/05/js-in-colab.html\n",
    "\n",
    " I made a version that works in Colab and in vanilla Jupyter.\n",
    " A software team made a widget which can be used in labs —even if they are using someone's code they have their logo on it, which is rather rotten IMO. It is easy to monkeypatch to remove the logo but that would be more rotten still. :laugh:"
   ]
  },
  {
   "cell_type": "code",
   "execution_count": null,
   "id": "b88a7938-0fec-4937-860d-51a6502653c5",
   "metadata": {},
   "outputs": [],
   "source": [
    "## This will work in colab and vanilla\n",
    "!pip install git+https://github.com/matteoferla/JSME_notebook_hack.git\n",
    "from jsme_hack import JSMEHack\n",
    "jsme = JSMEHack()"
   ]
  },
  {
   "cell_type": "code",
   "execution_count": null,
   "id": "10117652-fcb7-4223-a0e4-bb75ad657fe2",
   "metadata": {},
   "outputs": [],
   "source": [
    "## this will work in lab\n",
    "!pip install trident-chemwidgets\n",
    "!jupyter labextension install trident-chemwidgets\n",
    "import trident_chemwidgets as tcw\n",
    "editor = tcw.JSME()\n",
    "editor"
   ]
  },
  {
   "cell_type": "code",
   "execution_count": null,
   "id": "8eefc4d9-7332-47a9-98a0-f69ded2f39b0",
   "metadata": {},
   "outputs": [],
   "source": [
    "# For jupyter hub I assume the former will work?"
   ]
  },
  {
   "cell_type": "markdown",
   "source": [
    "## Restricting IPs\n",
    "\n",
    "The IPs within the Odin network are found [here](https://help.it.ox.ac.uk/ip-addresses)\n",
    "\n",
    "    Require ip 129.67.0.0/16\n",
    "    Require ip 163.1.0.0/16\n",
    "    Require ip 192.76.6.0/23\n",
    "    Require ip 192.76.8.0/21\n",
    "    Require ip 192.76.16.0/20\n",
    "    Require ip 192.76.32.0/22\n",
    "    Require ip 192.76.10.0/24\n",
    "    Require ip 192.76.8.0/24"
   ],
   "metadata": {
    "collapsed": false,
    "pycharm": {
     "name": "#%% md\n"
    }
   }
  },
  {
   "cell_type": "code",
   "execution_count": null,
   "outputs": [],
   "source": [],
   "metadata": {
    "collapsed": false,
    "pycharm": {
     "name": "#%%\n"
    }
   }
  }
 ],
 "metadata": {
  "kernelspec": {
   "display_name": "Python 3 (ipykernel)",
   "language": "python",
   "name": "python3"
  },
  "language_info": {
   "codemirror_mode": {
    "name": "ipython",
    "version": 3
   },
   "file_extension": ".py",
   "mimetype": "text/x-python",
   "name": "python",
   "nbconvert_exporter": "python",
   "pygments_lexer": "ipython3",
   "version": "3.8.13"
  }
 },
 "nbformat": 4,
 "nbformat_minor": 5
}