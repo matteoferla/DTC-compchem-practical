{
 "cells": [
  {
   "cell_type": "code",
   "execution_count": null,
   "metadata": {
    "collapsed": true
   },
   "outputs": [],
   "source": [
    "# ------------------------------------------------\n",
    "\n",
    "import os\n",
    "\n",
    "import DTC_compchem_practical\n",
    "\n",
    "#source /etc/os-release && echo $PRETTY_NAME\n",
    "with open('/etc/os-release') as fh:\n",
    "  for line in fh:\n",
    "    if line and line[0] != '#':\n",
    "      os.environ[line.split('=')[0]] = line.split('=')[1]\n",
    "print(f'Running {os.environ[\"PRETTY_NAME\"]}') # on {os.environ[\"HOST\"]} as {os.environ[\"USER\"]}')\n",
    "\n",
    "# ------------------------------------------------\n",
    "from IPython.display import display, clear_output\n",
    "import time, sys\n",
    "tick = time.time()\n",
    "# Install mamba without resetting the kernel alla condacolab\n",
    "!wget -qnc https://github.com/conda-forge/miniforge/releases/latest/download/Mambaforge-Linux-x86_64.sh\n",
    "!bash Mambaforge-Linux-x86_64.sh -bfp /usr/local\n",
    "sys.path.append('/usr/local/lib/python3.10/site-packages')\n",
    "!mamba config --set auto_update_conda false\n",
    "!mamba install -y -c omnia -c conda-forge openmm openmmtools openff-toolkit openmmforcefields pdbfixer\n",
    "!pip install -q py3Dmol\n",
    "!pip install -q rdkit\n",
    "!pip install -q simtk\n",
    "!pip install -q plotly\n",
    "!pip install -q git+https://github.com/matteoferla/DTC-compchem-practical.git\n",
    "tock = time.time()\n",
    "clear_output()\n",
    "print(f'Installation time: {tock - tick}')"
   ]
  },
  {
   "cell_type": "markdown",
   "source": [
    "# Let's look at the basics of openMM"
   ],
   "metadata": {
    "collapsed": false
   }
  },
  {
   "cell_type": "code",
   "execution_count": null,
   "outputs": [],
   "source": [
    "from IPython.display import clear_output, display\n",
    "import copy\n",
    "from pathlib import Path\n",
    "import requests\n",
    "import numpy as np\n",
    "from rdkit import Chem\n",
    "from rdkit.Chem import Draw\n",
    "from rdkit.Chem import AllChem\n",
    "import mdtraj as md\n",
    "import openmm as mm\n",
    "import openmm.app as mma\n",
    "import openmm.unit as mmu\n",
    "# nomenclature idea copied from FEGrow:\n",
    "from openff.toolkit.topology import Molecule as OFFMolecule\n",
    "from openff.toolkit.topology import Topology as OFFTopology\n",
    "from openmmforcefields.generators import SMIRNOFFTemplateGenerator, GAFFTemplateGenerator"
   ],
   "metadata": {
    "collapsed": false
   }
  },
  {
   "cell_type": "code",
   "execution_count": null,
   "outputs": [],
   "source": [
    "# First we need to read in a molecule\n",
    "# We will use that from tutorial 1\n",
    "\n",
    "import pkg_resources, io\n",
    "\n",
    "template_block: str = pkg_resources.resource_string('DTC_compchem_practical', 'data/mac1-stripped.pdb').decode()\n",
    "\n",
    "with open('template.pdb', 'w') as fh:\n",
    "  fh.write(template_block)\n",
    "\n",
    "pdb = mma.PDBFile('template.pdb')\n",
    "\n",
    "# Alt way:\n",
    "# pdb = PDBFile(io.StringIO(template_block))"
   ],
   "metadata": {
    "collapsed": false
   }
  },
  {
   "cell_type": "markdown",
   "source": [
    "Both PDBFile (the IO for PDB files) and Modeller (the builder) have a `.topology` and `.positions` attributes.\n",
    "\n",
    "> What do they look like and what are they describing? (remember `dir` and `type`)\n",
    "(An OpenMM Quantity like a Pint Quantity. It has a value and a unit. `_value` holds the actual numpy array)\n",
    "\n",
    "👾👾👾\n",
    "\n",
    "### Picking a forcefield\n",
    "\n",
    "A page on the web says this `forcefield = mma.ForceField('amber14-all.xml', 'amber14/tip3pfb.xml')`\n",
    "\n",
    "But we will use this as we will use implicit water: `forcefield = mma.ForceField('amber14-all.xml', 'implicit/gbn2.xml')`\n",
    "\n",
    "> What is the difference? And why can't use vacuum? I read on Reddit water is an intersubjective construct...\n",
    "👾👾👾\n",
    "\n",
    "If you mix solvents, you have mixed solvent MD (good for guessing how hydrophobics and polars will interact). A Martini model is a coarse grain model, which —007 joke redacted as it was too terrible.\n",
    "\n",
    "If we were to use TIP3 waterbox we would need to add water:\n",
    "\n",
    "`modeller.addSolvent(pdb.getTopology().getUnitCellDimensions(), model='tip3p', padding=1.0*mmu.nanometers, ionicStrength=0.15*mmu.molar)`"
   ],
   "metadata": {
    "collapsed": false
   }
  },
  {
   "cell_type": "code",
   "execution_count": null,
   "outputs": [],
   "source": [
    "forcefield = mma.ForceField('amber14-all.xml', 'implicit/gbn2.xml')\n",
    "\n",
    "# Create system\n",
    "# This class represents a molecular system. It stores the topology, the list of forces, and the list of particles.\n",
    "# But not their positions!\n",
    "system: mm.System = forcefield.createSystem(pdb.topology)\n",
    "\n",
    "print('Oh no! The system has a problem!')"
   ],
   "metadata": {
    "collapsed": false
   }
  },
  {
   "cell_type": "markdown",
   "source": [
    "> What did we do wrong? Take a guess!\n",
    "👾👾👾"
   ],
   "metadata": {
    "collapsed": false
   }
  },
  {
   "cell_type": "code",
   "execution_count": null,
   "outputs": [],
   "source": [
    "# Spot on: we forgot to add hydrogen atoms!\n",
    "modeller = mma.Modeller(pdb.topology, pdb.positions)\n",
    "modeller.addHydrogens()\n",
    "forcefield = mma.ForceField('amber14-all.xml', 'implicit/gbn2.xml')\n",
    "system: mm.System = forcefield.createSystem(modeller.topology)\n",
    "print('This system has the following forces:')\n",
    "force: mm.Force\n",
    "for force in system.getForces():\n",
    "  print(force.__class__.__name__)\n",
    "\n",
    "# Create an integrator as if you were to do MD...\n",
    "temperature = (25+273.15) * unit.kelvin  # this is actual temperature for entropy not MCMC\n",
    "friction_coefficient = 1 / unit.picosecond\n",
    "timestep = 2 * unit.femtosecond\n",
    "integrator: mm.Integrator = mm.LangevinIntegrator(temperature, friction_coefficient, timestep)\n",
    "# Create a context\n",
    "# A Context stores the complete state of a simulation.\n",
    "context = mm.Context(system, integrator)\n",
    "\n",
    "# Set the positions\n",
    "context.setPositions(modeller.positions)\n",
    "\n",
    "# Compute the energy\n",
    "# A State object records a snapshot of the current state of a simulation at a point in time.\n",
    "state: mm.State = context.getState(getEnergy=True)\n",
    "print(f'The system has {state.getPotentialEnergy().value_in_unit(mmu.kilocalorie_per_mole):.1f} kcal/mol in potential energy')\n",
    "print(f'The system has {state.getKineticEnergy().value_in_unit(mmu.kilocalorie_per_mole):.1f} kcal/mol in kinitic energy')"
   ],
   "metadata": {
    "collapsed": false
   }
  },
  {
   "cell_type": "markdown",
   "source": [
    "\n",
    "> What is this Integrator thing? (cf. http://docs.openmm.org/latest/userguide/theory/04_integrators.html)\n",
    "\n",
    "👾👾👾\n",
    "\n",
    "> What are these forces? (cf. http://docs.openmm.org/latest/userguide/theory/02_standard_forces.html and theory page in repo)\n",
    "\n",
    "👾👾👾\n",
    "\n",
    "In the above, we skipped the `Platform` object. A Platform defines an implementation of all the kernels needed to perform some calculation. But we are not going to deal with CUDA drivers & co.\n",
    "\n",
    "\n",
    "> 12,000 kcal/mol is a lot of energy. What is going on?\n",
    "\n",
    "👾👾👾"
   ],
   "metadata": {
    "collapsed": false
   }
  },
  {
   "cell_type": "markdown",
   "source": [
    "Bingo. We did not energy minimise for our forcefield so it is all over the place.\n",
    "Coot and similar tools for crystallography are good but they do cause energy losses for the perfect position.\n",
    "\n",
    "### energy minimise\n",
    "\n",
    "`mm.LocalEnergyMinimizer.minimize(context)` is one way to do it.\n",
    "\n",
    "The other way does not use the context but a new object\n",
    "\n",
    "```python\n",
    "# Create a Simulation object\n",
    "simulation = mma.Simulation(modeller.topology, system, integrator)\n",
    "simulation.context.setPositions(modeller.positions)\n",
    "simulation.minimizeEnergy()\n",
    "```\n",
    "\n",
    "Obviously we don't have all day, so won't and use one prepared earlier (`mac1-stripped.min.pdb`).\n",
    "But do energy minimise your templates!"
   ],
   "metadata": {
    "collapsed": false
   }
  },
  {
   "cell_type": "code",
   "execution_count": null,
   "outputs": [],
   "source": [
    "# Get the energy of this protein!\n",
    "\n",
    "👾👾👾"
   ],
   "metadata": {
    "collapsed": false
   }
  },
  {
   "cell_type": "code",
   "execution_count": null,
   "outputs": [],
   "source": [
    "# Now let do a simulation of a small 10 steps\n",
    "integrator: mm.Integrator = mm.LangevinIntegrator(temperature, friction_coefficient, timestep)\n",
    "simulation = mma.Simulation(pdb.topology, system, integrator)\n",
    "simulation.context.setPositions(pdb.positions)\n",
    "simulation.minimizeEnergy()\n",
    "simulation.step(5)\n",
    "\n",
    "state: mm.State = similation.context.getState(getEnergy=True)\n",
    "print(f'The system has {state.getPotentialEnergy().value_in_unit(mmu.kilocalorie_per_mole):.1f} kcal/mol in potential energy')\n",
    "print(f'The system has {state.getKineticEnergy().value_in_unit(mmu.kilocalorie_per_mole):.1f} kcal/mol in kinitic energy')"
   ],
   "metadata": {
    "collapsed": false
   }
  },
  {
   "cell_type": "markdown",
   "source": [
    "Now, let's get back to basics.\n",
    "\n",
    "# Lenard-Jones\n",
    "\n",
    "> We saw the Lenard-Jones potential. What does it do and look like?\n",
    "\n",
    "👾👾👾"
   ],
   "metadata": {
    "collapsed": false
   }
  },
  {
   "cell_type": "code",
   "execution_count": null,
   "outputs": [],
   "source": [
    "LJpair: mmt.testsystems.TestSystem = mmt.testsystems.LennardJonesPair()\n",
    "system: mm.System = LJpair.system\n",
    "\n",
    "print('This system has the following forces:')\n",
    "force: mm.Force\n",
    "for force in LJpair.system.getForces():\n",
    "  print(force.__class__.__name__)\n",
    "\n",
    "print('This system has the following atoms:')\n",
    "atom: mma.topology.Atom\n",
    "for atom in LJpair.topology.atoms():\n",
    "  print(atom.index, atom.element.name)\n",
    "\n",
    "# To calculate the energy we need some things set up first\n",
    "# even if we arent integrating system in time\n",
    "# Create an integrator (simple Langevin integrator in this example)\n",
    "temperature = (25+273.15) * mmu.kelvin  # this is actual temperature for entropy not MCMC\n",
    "friction_coefficient = 1 / mmu.picosecond\n",
    "timestep = 2 * mmu.femtosecond\n",
    "integrator: mm.Integrator = mm.LangevinIntegrator(temperature, friction_coefficient, timestep)\n",
    "context = mm.Context(LJpair.system, integrator)\n",
    "context.setPositions(LJpair.positions)\n",
    "\n",
    "# Compute the energy\n",
    "state: mm.State = context.getState(getEnergy=True)\n",
    "print(f'The system has {state.getPotentialEnergy().value_in_unit(mmu.kilocalorie_per_mole):.1f} kcal/mol')\n",
    "print(f'The system has {state.getKineticEnergy().value_in_unit(mmu.kilocalorie_per_mole):.1f} kcal/mol')\n",
    "\n",
    "position: npt.NDArray[np.float32] = LJpair.positions._value\n",
    "distance: np.float32 = np.linalg.norm(position[0,:] - position[1,:])\n",
    "print(f'the distance of the two atoms ins {distance:.2f} Å')"
   ],
   "metadata": {
    "collapsed": false
   }
  },
  {
   "cell_type": "markdown",
   "source": [
    "> Why is the kinetic energy zero? Even if we _set_ an integrator in Langevin dynamics?\n",
    "\n",
    "👾👾👾"
   ],
   "metadata": {
    "collapsed": false
   }
  },
  {
   "cell_type": "code",
   "execution_count": null,
   "outputs": [],
   "source": [
    "# Let's do a simple experiment to test this\n",
    "\n",
    "from typing import Dict\n",
    "scores: Dict[float, float] = {}\n",
    "\n",
    "for i in np.arange(0., 10., 0.01):\n",
    "  position[1,0] = i\n",
    "  context.setPositions(LJpair.positions)  # it can accept Quantity or numpy\n",
    "  state: mm.State = context.getState(getEnergy=True)\n",
    "  energy: mmu.Quantity = state.getPotentialEnergy()\n",
    "  scores[float(i)] = float(energy.value_in_unit(mmu.kilocalorie_per_mole))\n",
    "\n",
    "import plotly.express as px\n",
    "import pandas as pd\n",
    "\n",
    "fig = px.scatter(pd.DataFrame(list(scores.items()), columns=['distance', 'potential']), 'distance', 'potential')\n",
    "fig.update_layout(yaxis_range=[-20,20])\n",
    "fig.show()"
   ],
   "metadata": {
    "collapsed": false
   }
  },
  {
   "cell_type": "code",
   "execution_count": null,
   "outputs": [],
   "source": [
    "# Let's get back to our protein and its hit\n",
    "\n",
    "hit_block: str = dtc.get_data('QRU.mol')\n",
    "# Hit as a rdkit object\n",
    "hit: Chem.Mol = Chem.MolFromMolBlock(hit_block)\n",
    "\n",
    "# But something is wrong!\n",
    "dtc.get_mols_view(whiteCarbon=hit).show()"
   ],
   "metadata": {
    "collapsed": false
   }
  },
  {
   "cell_type": "markdown",
   "source": [
    "> What did we forget?\n",
    "\n",
    "👾👾👾"
   ],
   "metadata": {
    "collapsed": false
   }
  },
  {
   "cell_type": "code",
   "execution_count": null,
   "outputs": [],
   "source": [
    "# Yes, hydrogens!\n",
    "\n",
    "hit_h = AllChem.AddHs(hit)\n",
    "\n",
    "dtc.get_mols_view(whiteCarbon=hit_h).show()"
   ],
   "metadata": {
    "collapsed": false
   }
  },
  {
   "cell_type": "markdown",
   "source": [
    "Ops. We did it wrong. `AllChem.AddHs` did not add coordinates.\n",
    "`help(AllChem.AddHs)` will say what it is..."
   ],
   "metadata": {
    "collapsed": false
   }
  },
  {
   "cell_type": "code",
   "execution_count": null,
   "outputs": [],
   "source": [
    "# Hit as a OpenFF object\n",
    "off_hit = OFFMolecule.from_rdkit(hit_h, allow_undefined_stereo=True)\n",
    "# Now as a OpenMM Modeller one\n",
    "hit_topo: mma.Topology = OFFTopology.from_molecules([off_hit]).to_openmm()\n",
    "hit_pos: mmu.Quantity = off_hit.conformers[0].to_openmm()\n",
    "omm_hit = mma.Modeller(hit_topo, hit_pos)\n",
    "# If we hadn't added the hydrogen in RDKit `modeller.addHydrogens()` will have worked too as topology will be with bond order.\n",
    "holo = mma.Modeller(pdb.topology, pdb.positions)\n",
    "holo.add(omm_hit.topology, omm_hit.positions)"
   ],
   "metadata": {
    "collapsed": false
   }
  },
  {
   "cell_type": "markdown",
   "source": [
    "## What about the forcefield?\n",
    "It has bond order, but how does it behave?\n",
    "It needs to be parameterised for the forcefield. In Amber and co, these files were XML and you see those around.\n",
    "Here we can use the Amber GAFF or Smirnoff amongst others. First let's look at GAFF2 FF.\n",
    "\n",
    "In OpenFF we can do `gaff = GAFFTemplateGenerator(molecules=off_hit, forcefield='gaff-2.11')`, but need to do a lot of faff to get the atom types. Instead I did the following ancient line to covert the molecules\n",
    "`antechamber -i hQRU.mol -fi mdl -o QRU.mol2 -fo mol2 -at gaff2 -nc -1 -rn QRU -c gas` (antechamber is the prep tool for Amber forcefields). The output file is the following:\n",
    "\n",
    "  @<TRIPOS>MOLECULE\n",
    "  QRU\n",
    "     49    52     1     0     0\n",
    "  SMALL\n",
    "  gas\n",
    "\n",
    "\n",
    "  @<TRIPOS>ATOM\n",
    "        1 C1         -49.7390   -29.0190     6.5240 ca         1 QRU       0.033935\n",
    "        2 C2         -49.8310   -29.1070     4.1400 ca         1 QRU      -0.047811\n",
    "        3 C3         -50.4970   -29.0720     5.3590 ca         1 QRU      -0.039894\n",
    "        4 C4         -48.4450   -29.0970     4.1170 ca         1 QRU       0.037172\n",
    "        5 C5         -47.7820   -29.1950     2.7490 c          1 QRU       0.243385\n",
    "        6 C6         -45.6900   -29.6890     1.4750 c5         1 QRU       0.056647\n",
    "        7 C7         -45.5240   -28.3580     0.7540 ca         1 QRU      -0.021214\n",
    "        8 C8         -46.4620   -27.6160     0.0280 ca         1 QRU      -0.056682\n",
    "        9 C9         -51.7210   -29.1020     8.1160 c          1 QRU       0.302439\n",
    "       10 C10        -44.1990   -31.1670     2.8010 c          1 QRU       0.047014\n",
    "       11 C11        -44.2750   -30.1910     1.6370 c5         1 QRU       0.025300\n",
    "       12 C12        -43.4330   -28.9220     1.8000 c5         1 QRU      -0.014732\n",
    "       13 C13        -44.2260   -27.9000     0.9460 ca         1 QRU      -0.012122\n",
    "       14 C14        -43.8630   -26.6710     0.3850 ca         1 QRU       0.074792\n",
    "       15 C15        -44.8040   -25.9500    -0.3380 ca         1 QRU      -0.031772\n",
    "       16 C16        -46.0890   -26.4110    -0.5260 ca         1 QRU      -0.059311\n",
    "       17 C17        -53.3120   -29.2480    10.0250 cx         1 QRU       0.024027\n",
    "       18 C18        -53.3800   -29.1550    11.5440 cx         1 QRU      -0.032870\n",
    "       19 C19        -53.6510   -30.4910    10.8480 cx         1 QRU      -0.032870\n",
    "       20 C20        -48.3570   -29.0240     6.5000 ca         1 QRU      -0.039894\n",
    "       21 C21        -47.6950   -29.0760     5.2880 ca         1 QRU      -0.047811\n",
    "       22 N1         -46.3610   -29.5050     2.7430 ns         1 QRU      -0.303729\n",
    "       23 N2         -50.3150   -29.0460     7.8380 ns         1 QRU      -0.269209\n",
    "       24 N3         -51.9570   -29.2160     9.5120 ns         1 QRU      -0.296183\n",
    "       25 O1         -43.7810   -30.7670     3.9190 o          1 QRU      -0.549767\n",
    "       26 O2         -42.5780   -26.1380     0.5300 oh         1 QRU      -0.360650\n",
    "       27 O3         -52.5830   -29.0310     7.3190 o          1 QRU      -0.253965\n",
    "       28 O4         -48.4100   -29.1260     1.7430 o          1 QRU      -0.271935\n",
    "       29 O5         -44.5460   -32.3730     2.6250 o          1 QRU      -0.549767\n",
    "       30 H1         -50.4000   -29.1420     3.1990 ha         1 QRU       0.063171\n",
    "       31 H2         -51.5960   -29.0860     5.4020 ha         1 QRU       0.064288\n",
    "       32 H3         -46.3160   -30.4080     0.9260 h1         1 QRU       0.056249\n",
    "       33 H4         -47.4880   -27.9910    -0.0990 ha         1 QRU       0.062650\n",
    "       34 H5         -43.8980   -30.7720     0.7820 hc         1 QRU       0.039121\n",
    "       35 H6         -43.3810   -28.6090     2.8530 hc         1 QRU       0.032462\n",
    "       36 H7         -42.3840   -29.0410     1.4900 hc         1 QRU       0.032462\n",
    "       37 H8         -44.5150   -24.9820    -0.7740 ha         1 QRU       0.065046\n",
    "       38 H9         -46.8100   -25.8230    -1.1130 ha         1 QRU       0.062380\n",
    "       39 H10        -53.7890   -28.7270     9.1820 h1         1 QRU       0.050420\n",
    "       40 H11        -52.4580   -29.0160    12.1280 hc         1 QRU       0.028620\n",
    "       41 H12        -53.9290   -28.5260    12.2610 hc         1 QRU       0.028620\n",
    "       42 H13        -54.6700   -30.9040    10.8270 hc         1 QRU       0.028620\n",
    "       43 H14        -53.2410   -31.5090    10.9280 hc         1 QRU       0.028620\n",
    "       44 H15        -47.7870   -28.9870     7.4400 ha         1 QRU       0.064288\n",
    "       45 H16        -46.5960   -29.1000     5.2500 ha         1 QRU       0.063171\n",
    "       46 H17        -45.8410   -29.5920     3.6280 hn         1 QRU       0.150365\n",
    "       47 H18        -49.6710   -29.0230     8.6410 hn         1 QRU       0.157352\n",
    "       48 H19        -51.1610   -29.2760    10.1630 hn         1 QRU       0.151314\n",
    "       49 H20        -42.3550   -25.2650     0.1200 ho         1 QRU       0.218261\n",
    "  @<TRIPOS>BOND\n",
    "       1     1     3 ar\n",
    "       2     2     3 ar\n",
    "       3     2     4 ar\n",
    "       4     4     5 1\n",
    "       5     6     7 1\n",
    "       6     7     8 ar\n",
    "       7     6    11 1\n",
    "       8    11    10 1\n",
    "       9    11    12 1\n",
    "      10     7    13 ar\n",
    "      11    12    13 1\n",
    "      12    13    14 ar\n",
    "      13    14    15 ar\n",
    "      14     8    16 ar\n",
    "      15    15    16 ar\n",
    "      16    17    18 1\n",
    "      17    17    19 1\n",
    "      18    18    19 1\n",
    "      19     1    20 ar\n",
    "      20     4    21 ar\n",
    "      21    20    21 ar\n",
    "      22     5    22 1\n",
    "      23     6    22 1\n",
    "      24     1    23 1\n",
    "      25     9    23 1\n",
    "      26     9    24 1\n",
    "      27    17    24 1\n",
    "      28    10    25 1\n",
    "      29    14    26 1\n",
    "      30     9    27 2\n",
    "      31     5    28 2\n",
    "      32    10    29 1\n",
    "      33     2    30 1\n",
    "      34     3    31 1\n",
    "      35     6    32 1\n",
    "      36     8    33 1\n",
    "      37    11    34 1\n",
    "      38    12    35 1\n",
    "      39    12    36 1\n",
    "      40    15    37 1\n",
    "      41    16    38 1\n",
    "      42    17    39 1\n",
    "      43    18    40 1\n",
    "      44    18    41 1\n",
    "      45    19    42 1\n",
    "      46    19    43 1\n",
    "      47    20    44 1\n",
    "      48    21    45 1\n",
    "      49    22    46 1\n",
    "      50    23    47 1\n",
    "      51    24    48 1\n",
    "      52    26    49 1\n",
    "  @<TRIPOS>SUBSTRUCTURE\n",
    "       1 QRU         1 TEMP              0 ****  ****    0 ROOT\n",
    "\n",
    "In the Atoms block, we have index, name, x, y, z, atom type, residue number, residue name (technically chemical component identifier) and partial charge.\n",
    "NB. In molecular mechanics atom types has a different meaning that in most deep learning chemistry models, where it is used as a synonym for element symbol.\n",
    "\n",
    "> What atom types can you see (cf. https://ambermd.org/antechamber/gaff.html#atomtype or paper for GAFF2)?\n",
    "\n",
    "👾👾👾\n",
    "\n",
    "> Why use atom types instead of element symbols?\n",
    "\n",
    "👾👾👾\n",
    "\n",
    "> Does an `aromatic sp2 C` form trans or cis isomers? What about `aliphatic sp2 C`? Is the hydrogen - heavy atom bond the same length?\n",
    "\n",
    "👾👾👾"
   ],
   "metadata": {
    "collapsed": false
   }
  },
  {
   "cell_type": "code",
   "execution_count": null,
   "outputs": [],
   "source": [
    "# Having look at the classics, we will move into the modern era\n",
    "smirnoff = SMIRNOFFTemplateGenerator(molecules=off_hit)\n",
    "if forcefield_names is None:\n",
    "    forcefield_names = self.forcefield_names\n",
    "forcefield = mma.ForceField(*forcefield_names)\n",
    "forcefield.registerTemplateGenerator(smirnoff.generator)\n",
    "\n",
    "# Now the molecule will be recognised and we can get the energy of the complex\n",
    "system: mm.System = forcefield.createSystem(holo.topology)\n",
    "integrator: mm.Integrator = mm.LangevinIntegrator(temperature, friction_coefficient, timestep)\n",
    "context = mm.Context(system, integrator)\n",
    "context.setPositions(holo.positions)\n",
    "state: mm.State = context.getState(getEnergy=True)\n",
    "print(f'The system has {state.getPotentialEnergy().value_in_unit(mmu.kilocalorie_per_mole):.1f} kcal/mol in potential energy')\n",
    "print(f'The system has {state.getKineticEnergy().value_in_unit(mmu.kilocalorie_per_mole):.1f} kcal/mol in kinitic energy')"
   ],
   "metadata": {
    "collapsed": false
   }
  },
  {
   "cell_type": "markdown",
   "source": [
    "This is just the internal energy. In reality to get Gibbs free energy we need entropy.\n",
    "This requires a simulation in both bound and unbound form. See FEP or dynamic undocking."
   ],
   "metadata": {
    "collapsed": false
   }
  }
 ],
 "metadata": {
  "kernelspec": {
   "display_name": "Python 3",
   "language": "python",
   "name": "python3"
  },
  "language_info": {
   "codemirror_mode": {
    "name": "ipython",
    "version": 2
   },
   "file_extension": ".py",
   "mimetype": "text/x-python",
   "name": "python",
   "nbconvert_exporter": "python",
   "pygments_lexer": "ipython2",
   "version": "2.7.6"
  }
 },
 "nbformat": 4,
 "nbformat_minor": 0
}
