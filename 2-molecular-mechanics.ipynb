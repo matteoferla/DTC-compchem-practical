{
 "cells": [
  {
   "cell_type": "code",
   "execution_count": null,
   "metadata": {
    "collapsed": true
   },
   "outputs": [],
   "source": [
    "# ------------------------------------------------\n",
    "\n",
    "import os\n",
    "\n",
    "#source /etc/os-release && echo $PRETTY_NAME\n",
    "with open('/etc/os-release') as fh:\n",
    "  for line in fh:\n",
    "    if line and line[0] != '#':\n",
    "      os.environ[line.split('=')[0]] = line.split('=')[1]\n",
    "print(f'Running {os.environ[\"PRETTY_NAME\"]}') # on {os.environ[\"HOST\"]} as {os.environ[\"USER\"]}')\n",
    "\n",
    "gpu_info = !nvidia-smi\n",
    "gpu_info = '\\n'.join(gpu_info)\n",
    "if gpu_info.find('failed') >= 0:\n",
    "  print('Not connected to a GPU')\n",
    "else:\n",
    "  print(gpu_info)\n",
    "\n",
    "# ------------------------------------------------\n",
    "from IPython.display import display, clear_output\n",
    "import time, sys\n",
    "tick = time.time()\n",
    "# Install mamba without resetting the kernel alla condacolab\n",
    "!wget -qnc https://github.com/conda-forge/miniforge/releases/latest/download/Mambaforge-Linux-x86_64.sh\n",
    "!bash Mambaforge-Linux-x86_64.sh -bfp /usr/local\n",
    "sys.path.append('/usr/local/lib/python3.10/site-packages')\n",
    "!mamba config --set auto_update_conda false\n",
    "!mamba install -y -c omnia -c conda-forge openmm openmmtools openff-toolkit openmmforcefields pdbfixer\n",
    "!pip install -q py3Dmol\n",
    "!pip install -q rdkit\n",
    "!pip install -q simtk\n",
    "!pip install -q plotly\n",
    "!pip install -q git+https://github.com/matteoferla/DTC-compchem-practical.git\n",
    "import warnings\n",
    "with warnings.catch_warnings():\n",
    "  warnings.simplefilter(\"ignore\")\n",
    "  # last year used pyrosetta... the warning is distracting.\n",
    "  import DTC_compchem_practical as dtc\n",
    "tock = time.time()\n",
    "clear_output()\n",
    "from typing import Sequence, List, Set, Dict, Tuple, Optional, Union\n",
    "print(f'Installation time: {tock - tick}')"
   ]
  },
  {
   "cell_type": "markdown",
   "source": [
    "# Let's look at the basics of openMM"
   ],
   "metadata": {
    "collapsed": false
   }
  },
  {
   "cell_type": "code",
   "execution_count": null,
   "outputs": [],
   "source": [
    "from IPython.display import clear_output, display\n",
    "import copy\n",
    "from pathlib import Path\n",
    "import requests\n",
    "import numpy as np\n",
    "from rdkit import Chem\n",
    "from rdkit.Chem import Draw\n",
    "from rdkit.Chem import AllChem\n",
    "import mdtraj as md\n",
    "import openmm as mm\n",
    "import openmm.app as mma\n",
    "import openmm.unit as mmu\n",
    "# nomenclature idea copied from FEGrow:\n",
    "from openff.toolkit.topology import Molecule as OFFMolecule\n",
    "from openff.toolkit.topology import Topology as OFFTopology\n",
    "from openmmforcefields.generators import SMIRNOFFTemplateGenerator, GAFFTemplateGenerator"
   ],
   "metadata": {
    "collapsed": false
   }
  },
  {
   "cell_type": "code",
   "execution_count": null,
   "outputs": [],
   "source": [
    "# First we need to read in a molecule\n",
    "# We will use that from tutorial 1\n",
    "\n",
    "import pkg_resources, io\n",
    "\n",
    "template_block: str = pkg_resources.resource_string('DTC_compchem_practical', 'data/mac1-stripped.pdb').decode()\n",
    "\n",
    "with open('template.pdb', 'w') as fh:\n",
    "  fh.write(template_block)\n",
    "\n",
    "pdb = mma.PDBFile('template.pdb')\n",
    "\n",
    "# Alt way:\n",
    "# pdb = PDBFile(io.StringIO(template_block))"
   ],
   "metadata": {
    "collapsed": false
   }
  },
  {
   "cell_type": "markdown",
   "source": [
    "Both PDBFile (the IO for PDB files) and Modeller (the builder) have a `.topology` and `.positions` attributes.\n",
    "\n",
    "> What do they look like and what are they describing? (remember `dir` and `type`)\n",
    "(An OpenMM Quantity like a Pint Quantity. It has a value and a unit. `_value` holds the actual numpy array)\n",
    "\n",
    "👾👾👾\n",
    "\n",
    "### Picking a forcefield\n",
    "\n",
    "A page on the web says this `forcefield = mma.ForceField('amber14-all.xml', 'amber14/tip3pfb.xml')`\n",
    "\n",
    "But we will use this as we will use implicit water: `forcefield = mma.ForceField('amber14-all.xml', 'implicit/gbn2.xml')`\n",
    "\n",
    "> What is the difference? And why can't use vacuum? I read on Reddit water is an intersubjective construct...\n",
    "👾👾👾\n",
    "\n",
    "If you mix solvents, you have mixed solvent MD (good for guessing how hydrophobics and polars will interact). A Martini model is a coarse grain model, which —007 joke redacted as it was too terrible.\n",
    "\n",
    "If we were to use TIP3 waterbox we would need to add water:\n",
    "\n",
    "`modeller.addSolvent(pdb.getTopology().getUnitCellDimensions(), model='tip3p', padding=1.0*mmu.nanometers, ionicStrength=0.15*mmu.molar)`"
   ],
   "metadata": {
    "collapsed": false
   }
  },
  {
   "cell_type": "code",
   "execution_count": null,
   "outputs": [],
   "source": [
    "forcefield = mma.ForceField('amber14-all.xml', 'implicit/gbn2.xml')\n",
    "\n",
    "# Create system\n",
    "# This class represents a molecular system. It stores the topology, the list of forces, and the list of particles.\n",
    "# But not their positions!\n",
    "system: mm.System = forcefield.createSystem(pdb.topology)\n",
    "\n",
    "print('Oh no! The system has a problem!')"
   ],
   "metadata": {
    "collapsed": false
   }
  },
  {
   "cell_type": "markdown",
   "source": [
    "> What did we do wrong? Take a guess!\n",
    "👾👾👾"
   ],
   "metadata": {
    "collapsed": false
   }
  },
  {
   "cell_type": "code",
   "execution_count": null,
   "outputs": [],
   "source": [
    "# Spot on: we forgot to add hydrogen atoms!\n",
    "modeller = mma.Modeller(pdb.topology, pdb.positions)\n",
    "modeller.addHydrogens()\n",
    "forcefield = mma.ForceField('amber14-all.xml', 'implicit/gbn2.xml')\n",
    "system: mm.System = forcefield.createSystem(modeller.topology)\n",
    "print('This system has the following forces:')\n",
    "force: mm.Force\n",
    "for force in system.getForces():\n",
    "  print(force.__class__.__name__)\n",
    "\n",
    "# Create an integrator as if you were to do MD...\n",
    "temperature = (25+273.15) * mmu.kelvin  # this is actual temperature for entropy not MCMC\n",
    "friction_coefficient = 1 / mmu.picosecond\n",
    "timestep = 2 * mmu.femtosecond\n",
    "integrator: mm.Integrator = mm.LangevinIntegrator(temperature, friction_coefficient, timestep)\n",
    "# Create a context\n",
    "# A Context stores the complete state of a simulation.\n",
    "context = mm.Context(system, integrator)\n",
    "\n",
    "# Set the positions\n",
    "context.setPositions(modeller.positions)\n",
    "\n",
    "# Compute the energy\n",
    "# A State object records a snapshot of the current state of a simulation at a point in time.\n",
    "state: mm.State = context.getState(getEnergy=True)\n",
    "print(f'The system has {state.getPotentialEnergy().value_in_unit(mmu.kilocalorie_per_mole):.1f} kcal/mol in potential energy')\n",
    "print(f'The system has {state.getKineticEnergy().value_in_unit(mmu.kilocalorie_per_mole):.1f} kcal/mol in kinitic energy')"
   ],
   "metadata": {
    "collapsed": false
   }
  },
  {
   "cell_type": "markdown",
   "source": [
    "\n",
    "> What is this Integrator thing? (cf. http://docs.openmm.org/latest/userguide/theory/04_integrators.html)\n",
    "\n",
    "👾👾👾\n",
    "\n",
    "> What are these forces? (cf. http://docs.openmm.org/latest/userguide/theory/02_standard_forces.html and theory page in repo)\n",
    "\n",
    "👾👾👾\n",
    "\n",
    "In the above, we skipped the `Platform` object. A Platform defines an implementation of all the kernels needed to perform some calculation. But we are not going to deal with CUDA drivers & co.\n",
    "\n",
    "\n",
    "> 12,000 kcal/mol is a lot of energy. What is going on?\n",
    "\n",
    "👾👾👾"
   ],
   "metadata": {
    "collapsed": false
   }
  },
  {
   "cell_type": "markdown",
   "source": [
    "Bingo. We did not energy minimise for our forcefield so it is all over the place.\n",
    "Coot and similar tools for crystallography are good but they do cause energy losses for the perfect position.\n",
    "\n",
    "### energy minimise\n",
    "\n",
    "`mm.LocalEnergyMinimizer.minimize(context)` is one way to do it.\n",
    "\n",
    "The other way does not use the context but a new object\n",
    "\n",
    "```python\n",
    "# Create a Simulation object\n",
    "simulation = mma.Simulation(modeller.topology, system, integrator)\n",
    "simulation.context.setPositions(modeller.positions)\n",
    "simulation.minimizeEnergy()\n",
    "```\n",
    "\n",
    "Obviously we don't have all day, so won't and use one prepared earlier (`mac1-stripped.min.pdb`).\n",
    "But do energy minimise your templates!"
   ],
   "metadata": {
    "collapsed": false
   }
  },
  {
   "cell_type": "code",
   "execution_count": null,
   "outputs": [],
   "source": [
    "# Get the energy of this protein!\n",
    "\n",
    "pdb = 👾👾👾\n",
    "system = 👾👾👾"
   ],
   "metadata": {
    "collapsed": false
   }
  },
  {
   "cell_type": "code",
   "execution_count": null,
   "outputs": [],
   "source": [
    "# Now let do a simulation of a small 10 steps\n",
    "integrator: mm.Integrator = mm.LangevinIntegrator(temperature, friction_coefficient, timestep)\n",
    "simulation = mma.Simulation(pdb.topology, system, integrator)\n",
    "simulation.context.setPositions(pdb.positions)\n",
    "simulation.minimizeEnergy()\n",
    "simulation.step(5)\n",
    "\n",
    "state: mm.State = similation.context.getState(getEnergy=True)\n",
    "print(f'The system has {state.getPotentialEnergy().value_in_unit(mmu.kilocalorie_per_mole):.1f} kcal/mol in potential energy')\n",
    "print(f'The system has {state.getKineticEnergy().value_in_unit(mmu.kilocalorie_per_mole):.1f} kcal/mol in kinitic energy')\n",
    "\n",
    "# if you get 'OpenMMException: Called setPositions() on a Context with the wrong number of positions'\n",
    "# it is because you skipped the about step. Please stand up and go to the corner and recide Gaudeamus x3 times"
   ],
   "metadata": {
    "collapsed": false,
    "is_executing": true
   }
  },
  {
   "cell_type": "markdown",
   "source": [
    "Now, let's get back to basics.\n",
    "\n",
    "# Lenard-Jones\n",
    "\n",
    "> We saw the Lenard-Jones potential. What does it do and look like?\n",
    "\n",
    "👾👾👾"
   ],
   "metadata": {
    "collapsed": false
   }
  },
  {
   "cell_type": "code",
   "execution_count": null,
   "outputs": [],
   "source": [
    "import openmmtools as mmt\n",
    "import numpy as np\n",
    "import numpy.typing as npt\n",
    "\n",
    "LJpair: mmt.testsystems.TestSystem = mmt.testsystems.LennardJonesPair()\n",
    "system: mm.System = LJpair.system\n",
    "\n",
    "print('This system has the following forces:')\n",
    "force: mm.Force\n",
    "for force in LJpair.system.getForces():\n",
    "  print(force.__class__.__name__)\n",
    "\n",
    "print('This system has the following atoms:')\n",
    "atom: mma.topology.Atom\n",
    "for atom in LJpair.topology.atoms():\n",
    "  print(atom.index, atom.element.name)\n",
    "\n",
    "# To calculate the energy we need some things set up first\n",
    "# even if we arent integrating system in time\n",
    "# Create an integrator (simple Langevin integrator in this example)\n",
    "temperature = (25+273.15) * mmu.kelvin  # this is actual temperature for entropy not MCMC\n",
    "friction_coefficient = 1 / mmu.picosecond\n",
    "timestep = 2 * mmu.femtosecond\n",
    "integrator: mm.Integrator = mm.LangevinIntegrator(temperature, friction_coefficient, timestep)\n",
    "context = mm.Context(LJpair.system, integrator)\n",
    "context.setPositions(LJpair.positions)\n",
    "\n",
    "# Compute the energy\n",
    "state: mm.State = context.getState(getEnergy=True)\n",
    "print(f'The system has {state.getPotentialEnergy().value_in_unit(mmu.kilocalorie_per_mole):.1f} kcal/mol potential energy')\n",
    "print(f'The system has {state.getKineticEnergy().value_in_unit(mmu.kilocalorie_per_mole):.1f} kcal/mol kinetic energy')\n",
    "\n",
    "position: npt.NDArray[np.float32] = LJpair.positions._value\n",
    "distance: np.float32 = np.linalg.norm(position[0,:] - position[1,:])\n",
    "print(f'the distance of the two atoms ins {distance:.2f} Å')"
   ],
   "metadata": {
    "collapsed": false
   }
  },
  {
   "cell_type": "markdown",
   "source": [
    "> Why is the kinetic energy zero? Even if we _set_ an integrator in Langevin dynamics?\n",
    "\n",
    "👾👾👾"
   ],
   "metadata": {
    "collapsed": false
   }
  },
  {
   "cell_type": "code",
   "execution_count": null,
   "outputs": [],
   "source": [
    "# Let's do a simple experiment to test this\n",
    "\n",
    "from typing import Dict\n",
    "scores: Dict[float, float] = {}\n",
    "\n",
    "for i in np.arange(0., 10., 0.01):\n",
    "  position[1,0] = i\n",
    "  context.setPositions(LJpair.positions)  # it can accept Quantity or numpy\n",
    "  state: mm.State = context.getState(getEnergy=True)\n",
    "  energy: mmu.Quantity = state.getPotentialEnergy()\n",
    "  scores[float(i)] = float(energy.value_in_unit(mmu.kilocalorie_per_mole))\n",
    "\n",
    "import plotly.express as px\n",
    "import pandas as pd\n",
    "\n",
    "fig = px.scatter(pd.DataFrame(list(scores.items()), columns=['distance', 'potential']), 'distance', 'potential')\n",
    "fig.update_layout(yaxis_range=[-20,20])\n",
    "fig.show()"
   ],
   "metadata": {
    "collapsed": false
   }
  },
  {
   "cell_type": "code",
   "execution_count": null,
   "outputs": [],
   "source": [
    "# Let's get back to our protein and its hit\n",
    "\n",
    "hit_block: str = dtc.get_data('QRU.mol')\n",
    "# Hit as a rdkit object\n",
    "hit: Chem.Mol = Chem.MolFromMolBlock(hit_block)\n",
    "\n",
    "# But something is wrong!\n",
    "dtc.get_mols_view(whiteCarbon=hit).show()"
   ],
   "metadata": {
    "collapsed": false
   }
  },
  {
   "cell_type": "markdown",
   "source": [
    "> What did we forget?\n",
    "\n",
    "👾👾👾"
   ],
   "metadata": {
    "collapsed": false
   }
  },
  {
   "cell_type": "code",
   "execution_count": null,
   "outputs": [],
   "source": [
    "# Yes, hydrogens!\n",
    "\n",
    "hit_h = AllChem.AddHs(hit)\n",
    "\n",
    "dtc.get_mols_view(whiteCarbon=hit_h).show()"
   ],
   "metadata": {
    "collapsed": false
   }
  },
  {
   "cell_type": "markdown",
   "source": [
    "Ops. We did it wrong. `AllChem.AddHs` did not add coordinates.\n",
    "`help(AllChem.AddHs)` will say what it is..."
   ],
   "metadata": {
    "collapsed": false
   }
  },
  {
   "cell_type": "code",
   "execution_count": null,
   "outputs": [],
   "source": [
    "# Hit as a OpenFF object\n",
    "off_hit = OFFMolecule.from_rdkit(hit_h, allow_undefined_stereo=True)\n",
    "# Now as a OpenMM Modeller one\n",
    "hit_topo: mma.Topology = OFFTopology.from_molecules([off_hit]).to_openmm()\n",
    "hit_pos: mmu.Quantity = off_hit.conformers[0].to_openmm()\n",
    "omm_hit = mma.Modeller(hit_topo, hit_pos)\n",
    "# If we hadn't added the hydrogen in RDKit `modeller.addHydrogens()` will have worked too as topology will be with bond order.\n",
    "holo = mma.Modeller(pdb.topology, pdb.positions)\n",
    "holo.add(omm_hit.topology, omm_hit.positions)"
   ],
   "metadata": {
    "collapsed": false
   }
  },
  {
   "cell_type": "markdown",
   "source": [
    "## What about the forcefield?\n",
    "It has bond order, but how does it behave?\n",
    "It needs to be parameterised for the forcefield. In Amber and co, these files were XML and you see those around.\n",
    "Here we can use the Amber GAFF or Smirnoff amongst others. First let's look at GAFF2 FF.\n",
    "\n",
    "In OpenFF we can do `gaff = GAFFTemplateGenerator(molecules=off_hit, forcefield='gaff-2.11')`, but need to do a lot of faff to get the atom types. Instead I did the following ancient line to covert the molecules\n",
    "`antechamber -i hQRU.mol -fi mdl -o QRU.mol2 -fo mol2 -at gaff2 -nc -1 -rn QRU -c gas` (antechamber is the prep tool for Amber forcefields). The output file is [here](https://github.com/matteoferla/DTC-compchem-practical/blob/main/DTC_compchem_practical/data/QRU.mol2).\n",
    "\n",
    "\n",
    "In the Atoms block, we have index, name, x, y, z, atom type, residue number, residue name (technically chemical component identifier) and partial charge.\n",
    "NB. In molecular mechanics atom types has a different meaning that in most deep learning chemistry models, where it is used as a synonym for element symbol.\n",
    "\n",
    "> What atom types can you see (cf. https://ambermd.org/antechamber/gaff.html#atomtype or paper for GAFF2)?\n",
    "\n",
    "👾👾👾\n",
    "\n",
    "> Why use atom types instead of element symbols?\n",
    "\n",
    "👾👾👾\n",
    "\n",
    "> Does an `aromatic sp2 C` form trans or cis isomers? What about `aliphatic sp2 C`? Is the hydrogen - heavy atom bond the same length?\n",
    "\n",
    "👾👾👾"
   ],
   "metadata": {
    "collapsed": false
   }
  },
  {
   "cell_type": "code",
   "execution_count": null,
   "outputs": [],
   "source": [
    "# Having look at the classics, we will move into the modern era\n",
    "smirnoff = SMIRNOFFTemplateGenerator(molecules=off_hit)\n",
    "forcefield = mma.ForceField('amber14-all.xml', 'implicit/gbn2.xml')\n",
    "forcefield.registerTemplateGenerator(smirnoff.generator)\n",
    "\n",
    "# Now the molecule will be recognised and we can get the energy of the complex\n",
    "system: mm.System = forcefield.createSystem(holo.topology)\n",
    "integrator: mm.Integrator = mm.LangevinIntegrator(temperature, friction_coefficient, timestep)\n",
    "context = mm.Context(system, integrator)\n",
    "context.setPositions(holo.positions)\n",
    "state: mm.State = context.getState(getEnergy=True)\n",
    "print(f'The system has {state.getPotentialEnergy().value_in_unit(mmu.kilocalorie_per_mole):.1f} kcal/mol in potential energy')\n",
    "print(f'The system has {state.getKineticEnergy().value_in_unit(mmu.kilocalorie_per_mole):.1f} kcal/mol in kinitic energy')"
   ],
   "metadata": {
    "collapsed": false
   }
  },
  {
   "cell_type": "markdown",
   "source": [
    "This is just the internal energy. In reality to get Gibbs free energy we need entropy.\n",
    "This requires a simulation in both bound and unbound form. See FEP or dynamic undocking."
   ],
   "metadata": {
    "collapsed": false
   }
  }
 ],
 "metadata": {
  "kernelspec": {
   "display_name": "Python 3",
   "language": "python",
   "name": "python3"
  },
  "language_info": {
   "codemirror_mode": {
    "name": "ipython",
    "version": 2
   },
   "file_extension": ".py",
   "mimetype": "text/x-python",
   "name": "python",
   "nbconvert_exporter": "python",
   "pygments_lexer": "ipython2",
   "version": "2.7.6"
  }
 },
 "nbformat": 4,
 "nbformat_minor": 0
}
