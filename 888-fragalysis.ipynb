{
 "cells": [
  {
   "cell_type": "markdown",
   "source": [
    "## Bonus\n",
    "This section will have likely broken with newer versions of Fragalysis.\n",
    "If it does see [the 2021 XChem practical](https://github.com/xchem/strucbio_practical)\n",
    "\n",
    "## Visit Fragalysis\n",
    "[Fragalysis](https://fragalysis.diamond.ac.uk/) is a site run by XChem @ Diamond that shows publicly and interactively fragment screen data. We will visit the synchrotron next Thursday.\n",
    "\n",
    "For the next part you will need to choose a target."
   ],
   "metadata": {
    "collapsed": false
   }
  },
  {
   "cell_type": "code",
   "execution_count": null,
   "outputs": [],
   "source": [
    "#@markdown Let's look at a summary of the targets from\n",
    "#@markdown https://github.com/matteoferla/munged-Fragalysis-targets/blob/main/targets.csv\n",
    "#@markdown Note that many viruses express their protein as a polyprotein that gets cleaved off.\n",
    "import requests\n",
    "from io import StringIO\n",
    "import pandas as pd\n",
    "\n",
    "response: requests.Response = requests.get('https://github.com/matteoferla/munged-Fragalysis-targets/raw/main/targets.csv')\n",
    "response.raise_for_status()\n",
    "\n",
    "targets: pd.DataFrame = pd.read_csv( StringIO(response.text) )"
   ],
   "metadata": {
    "collapsed": false
   }
  },
  {
   "cell_type": "code",
   "execution_count": null,
   "outputs": [],
   "source": [
    "#@markdown Let's find the col_name w/ number of hits for sorting in pandas.\n",
    "#@markdown (Note: pandas and panDDA are different things)\n",
    "col_name: str = '👾👾👾' #@param {type:\"string\"}\n",
    "if local_debug:\n",
    "    col_name = 'N_hits'\n",
    "\n",
    "targets.sort_values(col_name, ascending=False)"
   ],
   "metadata": {
    "collapsed": false
   }
  },
  {
   "cell_type": "code",
   "execution_count": null,
   "outputs": [],
   "source": [
    "#@title Download off Fragalysis\n",
    "#@markdown Choose a target\n",
    "target_name = '👾👾👾'   #@param {type:\"string\"}\n",
    "\n",
    "from rdkit import Chem\n",
    "from IPython.display import display\n",
    "from typing import Dict\n",
    "import DTC_compchem_practical as dtc\n",
    "\n",
    "#@markdown This will add the variables `pdb_filename`, `metadata_filename` and `sdf_filename`.\n",
    "filenames: Dict[str, str] = dtc.download_fragalysis(target_name, 'input')\n",
    "pdb_filename: str = filenames['reference.pdb']\n",
    "metadata_filename: str = filenames['metadata.csv']\n",
    "sdf_filename: str = filenames['combined.sdf']"
   ],
   "metadata": {
    "collapsed": false
   }
  },
  {
   "cell_type": "code",
   "execution_count": null,
   "outputs": [],
   "source": [
    "import nglview as nv\n",
    "import io\n",
    "import numpy as np\n",
    "import DTC_compchem_practical as dtc\n",
    "\n",
    "max_show = 50\n",
    "mols =list(Chem.SDMolSupplier(sdf_filename))[:max_show]\n",
    "dtc.display_mols(mols)\n",
    "\n",
    "# ----------------------------------\n",
    "\n",
    "view = nv.NGLWidget()\n",
    "\n",
    "view.add_component(pdb_filename, ext='pdb')\n",
    "for mol in mols:\n",
    "    fh = io.StringIO(Chem.MolToMolBlock(mol))\n",
    "    view.add_component(fh, ext='mol')\n",
    "#view.control.zoom(1.)\n",
    "view"
   ],
   "metadata": {
    "collapsed": false
   }
  },
  {
   "cell_type": "code",
   "execution_count": null,
   "outputs": [],
   "source": [
    "from rdkit.Chem import PandasTools, rdShapeHelpers, rdmolops, Descriptors\n",
    "import plotly.graph_objects as go\n",
    "\n",
    "mol_series = pd.Series({mol.GetProp('_Name'): mol for mol in mols})\n",
    "matrix: np.array = dtc.calc_distance_heatmap(mol_series.apply(rdmolops.AddHs))\n",
    "go.Figure(data=go.Heatmap(\n",
    "                            x = mols.apply(lambda m: m.GetProp('_Name')).tolist(),\n",
    "                            y = mols.apply(lambda m: m.GetProp('_Name')).tolist(),\n",
    "                            z = matrix,\n",
    "                            colorscale = 'hot'\n",
    "                        )\n",
    "         )"
   ],
   "metadata": {
    "collapsed": false
   }
  },
  {
   "cell_type": "code",
   "execution_count": null,
   "outputs": [],
   "source": [
    "## Questions\n",
    "\n",
    "> How many small molecules are there?\n",
    "\n",
    "👾👾👾\n",
    "\n",
    "> How many sites?\n",
    "\n",
    "👾👾👾\n",
    "\n",
    "> If you have a dimer, what do you see as a problem?\n",
    "\n",
    "👾👾👾\n",
    "\n",
    "> What data would you like to see in the above table and why?\n",
    "\n",
    "👾👾👾\n",
    "\n",
    "\n",
    "> What does Google say the RDKit command to do so is? (Remember than with a `pd.Series` you have the `apply` method, eg. `df.ROMol.apply(Descriptors.ExactMolWt)`\n",
    "\n",
    "👾👾👾\n",
    "\n",
    "> The above simply gets the molecular replacement template as the target. Is that wise?\n",
    "\n",
    "👾👾👾\n",
    "\n",
    "> The table has a `site_name` column. What would be a good approach to choose what sites to focus on? (Not for now, i.e. remember the adage 'a week in the lab, saves you an hour in the library').\n",
    "\n",
    "👾👾👾"
   ],
   "metadata": {
    "collapsed": false
   }
  }
 ],
 "metadata": {
  "kernelspec": {
   "display_name": "Python 3",
   "language": "python",
   "name": "python3"
  },
  "language_info": {
   "codemirror_mode": {
    "name": "ipython",
    "version": 2
   },
   "file_extension": ".py",
   "mimetype": "text/x-python",
   "name": "python",
   "nbconvert_exporter": "python",
   "pygments_lexer": "ipython2",
   "version": "2.7.6"
  }
 },
 "nbformat": 4,
 "nbformat_minor": 0
}
