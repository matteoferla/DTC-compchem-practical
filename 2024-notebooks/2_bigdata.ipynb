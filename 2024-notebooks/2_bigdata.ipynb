{
 "cells": [
  {
   "metadata": {},
   "cell_type": "markdown",
   "source": [
    "# Database practical\n",
    "\n",
    "With prof. Brian Marsden you were introduced to databases. Now let's get our hands dirty.\n",
    "\n",
    "* Aim 1: Derp around with a database\n",
    "* Aim: learn about how ChEMBL is structured and how to query it in order to understand how data can be stored and retrieved from a database.\n",
    "\n",
    "\n",
    "To get started run the next cell to install the necessary packages.\n",
    "NB. If you are using a Jupyter notebook you need to install SQLite3 a different way.\n",
    "\n",
    "Questions, while you wait:\n",
    "\n",
    "1. I am technoluddite chemists and I like Excel spreadsheets: Convince me why I should use a database instead of Excel."
   ],
   "id": "7b605de67c2f91ef"
  },
  {
   "metadata": {},
   "cell_type": "code",
   "outputs": [],
   "execution_count": null,
   "source": "## Part 1: Derping around with a database",
   "id": "a9ae8227d043f7b3"
  },
  {
   "metadata": {},
   "cell_type": "code",
   "outputs": [],
   "execution_count": null,
   "source": [
    "## Install Sqlite3\n",
    "# This is a Black magic level mega hack, don't worry about it.\n",
    "# It installs mamba without resetting the kernel as condacolab does\n",
    "# this is will install python 3.12\n",
    "!wget -qnc https://github.com/conda-forge/miniforge/releases/latest/download/Mambaforge-Linux-x86_64.sh\n",
    "!bash Mambaforge-Linux-x86_64.sh -bfp /usr/local && clear\n",
    "!mamba config --set auto_update_conda false\n",
    "!mamba install -y conda-forge::sqlite && clear\n",
    "import sys  # this as of Oct 2024 is 3.10\n",
    "v = f'{sys.version_info.major}.{sys.version_info.minor}.{sys.version_info.micro}'\n",
    "!mamba create -y -n matched \"python={v}\" && clear\n",
    "sys.path.append(f'/usr/local/envs/matched/lib')"
   ],
   "id": "1876a61d8fd5c29c"
  },
  {
   "metadata": {},
   "cell_type": "markdown",
   "source": [
    "First. Let's create a database and insert some data into it.\n",
    "However, after reading XKCD 327, we want to try our hand at SQL injection.\n",
    "\n",
    "![Exploits](https://imgs.xkcd.com/comics/exploits_of_a_mom.png)"
   ],
   "id": "d9acd6fb6222f2cf"
  },
  {
   "metadata": {},
   "cell_type": "code",
   "outputs": [],
   "execution_count": null,
   "source": [
    "%%bash\n",
    "# %% is called a 'cell magic'\n",
    "rm -rf test.db\n",
    "sqlite3 test.db \"CREATE TABLE students (id INTEGER PRIMARY KEY AUTOINCREMENT, name TEXT NOT NULL);\"\n",
    "sqlite3 test.db \".tables\"\n",
    "export STUDENT_NAME='Alice';\n",
    "sqlite3 test.db \"INSERT INTO students (name) VALUES ('${STUDENT_NAME}');\"\n",
    "sqlite3 test.db \"SELECT * FROM students;\"\n",
    "export STUDENT_NAME=\"Robert'; DROP TABLE students; --\";\n",
    "sqlite3 test.db \"INSERT INTO students (name) VALUES ('${STUDENT_NAME}');\"\n",
    "sqlite3 test.db \"SELECT * FROM students;\""
   ],
   "id": "6fd77042f867860c"
  },
  {
   "metadata": {},
   "cell_type": "markdown",
   "source": "Bobby drop tables strikes again! Let's try in Python.",
   "id": "bc37b817c49ae6b0"
  },
  {
   "metadata": {},
   "cell_type": "code",
   "outputs": [],
   "execution_count": null,
   "source": [
    "import sqlite3\n",
    "\n",
    "conn = sqlite3.connect('test.db')\n",
    "cursor = conn.cursor()\n",
    "# create the table, what is the SQL command again?\n",
    "cursor.execute('''\n",
    "👾👾👾\n",
    "''')\n",
    "\n",
    "# let's check the tables, but more pythonically\n",
    "from typing import List\n",
    "\n",
    "def list_tables(conn: sqlite3.Connection) -> List[str]:\n",
    "    cursor: sqlite3.Cursor = conn.cursor()\n",
    "    cursor.execute(\"SELECT name FROM sqlite_master WHERE type='table';\")\n",
    "    tables = cursor.fetchall()\n",
    "    return [table[0] for table in tables]\n",
    "\n",
    "def get_table_schema(conn: sqlite3.Connection, table_name: str):\n",
    "    cursor: sqlite3.Cursor = conn.cursor()\n",
    "    cursor.execute(f\"PRAGMA table_info({table_name});\")\n",
    "    schema = cursor.fetchall()\n",
    "    return schema\n",
    "\n",
    "list_tables(conn)"
   ],
   "id": "ab2ac1bc7a7cf3c4"
  },
  {
   "metadata": {},
   "cell_type": "markdown",
   "source": "Question: What is the difference between Connection and Cursor?",
   "id": "ed0a723b01478c22"
  },
  {
   "metadata": {},
   "cell_type": "code",
   "outputs": [],
   "execution_count": null,
   "source": [
    "# let's insert some data, the _safe_ way\n",
    "user_name = \"Alice\"\n",
    "cursor.execute('INSERT INTO students (name) VALUES (?)', (user_name,))\n",
    "user_name = \"BOBY'); DROP TABLE students; --\"\n",
    "cursor.execute('INSERT INTO students (name) VALUES (?)', (user_name,))\n",
    "conn.commit()\n",
    "# let's check the data\n",
    "print(cursor.execute('SELECT * FROM students').fetchall())\n",
    "# Nooooo Bobby!\n",
    "\n",
    "# let's insert some data, the _unsafe_ way\n",
    "unsafe_query = f\"INSERT INTO students (name) VALUES ('{user_name}')\"\n",
    "cursor.execute(unsafe_query)\n",
    "\n",
    "#conn.close()\n",
    "list_tables(conn)"
   ],
   "id": "5fb221fdb4a68315"
  },
  {
   "metadata": {},
   "cell_type": "markdown",
   "source": [
    "What happened in ? Why did the table not drop?\n",
    "\n",
    "The SQLite3 module uses SQL queries, and is not ORM. What was an ORM again? Can you name a common module with an ORM behaviour?\n",
    "How about a Python web framework that uses database that has an ORM?"
   ],
   "id": "3555ecba31401de2"
  },
  {
   "metadata": {
    "jupyter": {
     "is_executing": true
    }
   },
   "cell_type": "code",
   "source": [
    "# ## Sidequest 1\n",
    "# can you make the student table have their age and grade?\n",
    "\n",
    "👾👾👾\n",
    "\n",
    "# ## Sidequest 2\n",
    "# can you make the student table have a foreign key to a table called 'courses'?\n",
    "# PostGres can handle arrays, not SQLite3, so for ease, these students are only in one course.\n",
    "\n",
    "👾👾👾\n",
    "\n",
    "# ## Sidequest 4\n",
    "# Get a list of all the students in the course 'Chemistry' (WHERE clause)\n",
    "\n",
    "👾👾👾\n",
    "\n",
    "# ## Sidequest 3\n",
    "# The students filled in their details themselves.\n",
    "# What are the problems with this approach? How can you mitigate them?\n",
    "\n",
    "👾👾👾"
   ],
   "id": "1f6258a77d7bb7b",
   "outputs": [],
   "execution_count": null
  },
  {
   "metadata": {},
   "cell_type": "markdown",
   "source": [
    "## Part 2: ChEMBL\n",
    "\n",
    "### Basics of ChEMBL\n",
    "\n",
    "* Database: ChEMBL\n",
    "* Type: curated activity data of medically relevant compounds\n",
    "* URL: https://www.ebi.ac.uk/chembl/\n",
    "\n",
    "Unusually, in ChEMBL API schema is different from the SQL schema. The API schema is more user-friendly, while the SQL schema is how the relational database is structured.\n",
    "\n",
    " To scare you, here is the schema of the ChEMBL 20 database (current version is 34):\n",
    " ![link](https://uc16f6cf72beac49c60508fb94bf.previews.dropboxusercontent.com/p/thumb/ACcijf_-UBCcd5-SDxc91SF_0QXyHbKW7g-xoXSCWf44GjS9xCvlU02fpxBwIZpE_9g56VY_YwwHHC_aBJkMPFiVejMV2mAcXeyVqup0haEszUYo5qIRX_Wgr58pquxwGQgo9oaTgGhHy8StIcxvXdz631A_vEgoXr7qOVjstMOwwAYXEn_j9eAiH3FSTNqWEfhcK8mf-cktqUIR5KpUE_ETgxfCv0Bn-00f1NFKW_4HM1ifrF7KCLYcvzBQLeBbu0Y5Vx8BiXS6-QcDiTtgXTJqKslaokWFlu2NPKXOrU08N-SNzXQ7fPBPC9_9-Pr1Zlvwg6C5Lj44p67vyH3eADaJ_iVTKl-in-Rn0gbF_wNOQEVvub4seUQu0ToaixGLPz5odMW0XzkRx3gNzLj48c9m/p.png?is_prewarmed=true). In reality you will only need a few tables.\n",
    " \n",
    "In the [TeachOpenCADD tutorial](https://github.com/volkamerlab/teachopencadd/blob/master/teachopencadd/talktorials/T001_query_chembl/talktorial.ipynb) ChEMBL is interacted via an API. In this practical we will interact with the database directly, because teaching.\n",
    "\n",
    "This API vs. DB difference is unusual as many frameworks like Django or FastAPI, etc. have views that are easily implemented using the database schema. A common auto-generated documentation system for web app views is [Swagger, now called OpenAPI](https://swagger.io/specification/). What was the last API you looked at the documentation for and was it a familiar format?\n",
    "\n",
    "### Hypothetical scenario\n",
    "This is for discussion purposes —and if you will need to use the DB in future. We will not do this in this practical,\n",
    "as the DB is 43 GB.\n",
    "\n",
    "Download the database.\n",
    "\n",
    "**Where**. In the HPC class, we saw how a rack cabinet is organised\n",
    "generally with local storage physically within each rack unit,\n",
    "while in the baremetal/VM/countainer running therein\n",
    "shared storage is mounted. The former storage is much faster and the latter is visible to all nodes. Say we assigned the variables $SHARED_STORAGE and $LOCAL_STORAGE to these two and want to keep a backup of compressed database in the former and the decompressed in the latter.\n",
    "This is because it is faster to read from the local storage than the shared storage!\n",
    "(The /tmp folder is typically 'ephemeral' storage, which gets wiped after a reboot).\n",
    "\n",
    "**Checksum** Some of you may remember the joy of getting a stack of floppy disks of Mandrake 6 or Slackware 3 from a friend of a friend after a lot of effort possibly paying them in a currency that no longer exists (for me, Italian Lira), but then one diskette had an integrity error. Twenty years later everything is mostly better, but with large downloads this still and does happen. This is why we have checksums. \n",
    "\n",
    "\n",
    "```bash\n",
    "# 4.6 GB\n",
    "curl https://ftp.ebi.ac.uk/pub/databases/chembl/ChEMBLdb/latest/chembl_34_sqlite.tar.gz --output $SHARED_STORAGE/chembl_34_sqlite.tar.gz\n",
    "# Checksum\n",
    "echo 'Computed checksum'\n",
    "sha256sum $SHARED_STORAGE/chembl_34_sqlite.tar.gz;\n",
    "curl https://ftp.ebi.ac.uk/pub/databases/chembl/ChEMBLdb/latest/checksums.txt --output /tmp/checksums.txt\n",
    "echo 'Expected checksum'\n",
    "grep chembl_34_sqlite.tar.gz /tmp/checksums.txt | sha256sum -c -\n",
    "# 43 GB\n",
    "tar -xzvf $SHARED_STORAGE/chembl_34_sqlite.tar.gz -C $LOCAL_STORAGE/\n",
    "mv $LOCAL_STORAGE/chembl_34/chembl_34_sqlite/chembl_34.db $LOCAL_STORAGE/chembl_34.db\n",
    "rm -rf $LOCAL_STORAGE/chembl_34  # remove the documentation\n",
    "```\n",
    "\n",
    "Now. We have the database.\n",
    "We can look at https://ftp.ebi.ac.uk/pub/databases/chembl/ChEMBLdb/latest/schema_documentation.html and connect to it.\n",
    "\n",
    "\n",
    "```python\n",
    "import sqlite3\n",
    "\n",
    "conn = sqlite3.connect('/tmp/chembl_34/chembl_34_sqlite/chembl_34.db')\n",
    "cursor = conn.cursor()\n",
    "tables = list_tables(conn)\n",
    "print(tables)\n",
    "```\n",
    "\n",
    "    ['action_type', 'assay_type', 'chembl_id_lookup', 'confidence_score_lookup', 'curation_lookup', 'chembl_release', 'source', 'relationship_type', 'target_type', 'variant_sequences', 'bioassay_ontology', 'data_validity_lookup', 'activity_smid', 'activity_stds_lookup', 'assay_classification', 'atc_classification', 'bio_component_sequences', 'component_sequences', 'protein_classification', 'domains', 'go_classification', 'structural_alert_sets', 'products', 'frac_classification', 'hrac_classification', 'irac_classification', 'research_stem', 'organism_class', 'patent_use_codes', 'usan_stems', 'version', 'cell_dictionary', 'docs', 'target_dictionary', 'tissue_dictionary', 'molecule_dictionary', 'activity_supp', 'component_class', 'component_domains', 'component_go', 'component_synonyms', 'structural_alerts', 'defined_daily_dose', 'product_patents', 'protein_class_synonyms', 'research_companies', 'assays', 'compound_records', 'binding_sites', 'biotherapeutics', 'compound_properties', 'compound_structural_alerts', 'compound_structures', 'molecule_atc_classification', 'molecule_frac_classification', 'molecule_hierarchy', 'molecule_hrac_classification', 'molecule_irac_classification', 'molecule_synonyms', 'target_components', 'target_relations', 'activities', 'assay_class_map', 'assay_parameters', 'biotherapeutic_components', 'drug_indication', 'drug_mechanism', 'drug_warning', 'formulations', 'metabolism', 'site_components', 'activity_properties', 'activity_supp_map', 'indication_refs', 'ligand_eff', 'mechanism_refs', 'metabolism_refs', 'predicted_binding_domains', 'warning_refs', 'sqlite_stat1']\n",
    "\n",
    "Now, I want to compare small molecules that have neural effects vs the rest. But this snippet get stuck at the COMPOUND_STRUCTURES table. Why?:\n",
    "\n",
    "```python\n",
    "import json\n",
    "from pathlib import Path\n",
    "import pandas as pd\n",
    "import operator\n",
    "import sqlite3\n",
    "\n",
    "conn = sqlite3.connect('/tmp/chembl_34/chembl_34_sqlite/chembl_34.db')\n",
    "df = pd.read_sql_query(\"SELECT * FROM MOLECULE_DICTIONARY\", conn)\n",
    "print('Loaded')\n",
    "\n",
    "# Get ATC classification\n",
    "atc = pd.read_sql_query(\"SELECT * FROM MOLECULE_ATC_CLASSIFICATION\", conn)\n",
    "atc['level1'] = atc.level5.apply(operator.itemgetter(0))\n",
    "regno2atc = pd.pivot_table(atc, index='molregno', values='level1', aggfunc=''.join).level1.apply(set).apply(''.join).to_dict()\n",
    "del atc\n",
    "df['atc_level1s'] = df.molregno.map(regno2atc).fillna('')\n",
    "print('Loaded ATC')\n",
    "\n",
    "# Get SMILES\n",
    "coms = pd.read_sql_query(\"SELECT * FROM COMPOUND_STRUCTURES\", conn)\n",
    "regno2smiles = coms.set_index('molregno').canonical_smiles.to_dict()\n",
    "df['smiles'] = df.molregno.map(regno2smiles).fillna('')\n",
    "del coms\n",
    "print('Added SMILES')\n",
    "\n",
    "conn.close()\n",
    "```\n",
    "\n",
    "Any guess why the memory requirement is too high?\n",
    "How can I fix this?\n",
    "\n",
    "\n",
    "\n",
    "\n",
    "🤩 ワクワク! (Exciting!) Your SQL query worked!\n",
    "You are so good at this that I will export the data and let you finish the analysis.\n",
    "\n",
    "```python\n",
    "df['is_neuro'] = df.atc_level1s.str.contains('N')\n",
    "smol_df = df.loc[(df.molecule_type == 'Small molecule') & ((df.atc_level1s != '') | (~df.max_phase.isna())) & (df.smiles != '')].copy()\n",
    "smol_df.to_pickle('ChEMBL-subset.pkl.gz')\n",
    "```\n"
   ],
   "id": "d1d170eeb18a8717"
  },
  {
   "metadata": {},
   "cell_type": "code",
   "outputs": [],
   "execution_count": null,
   "source": [
    "!pip install -q pandas plotly rdkit\n",
    "import plotly.express as px\n",
    "from IPython.display import display\n",
    "\n",
    "df = pd.read_pickle('https://github.com/matteoferla/DTC-compchem-practical/raw/refs/heads/main/2024-notebooks/data/ChEMBL-subset.pkl.gz')\n",
    "\n",
    "# How many molecules are there for the two values in `is_neuro` column?\n",
    "👾👾👾\n"
   ],
   "id": "97214609db8d479d"
  },
  {
   "metadata": {},
   "cell_type": "code",
   "outputs": [],
   "execution_count": null,
   "source": [
    "from rdkit import Chem\n",
    "from rdkit.Chem import Descriptors\n",
    "\n",
    "# Add a column `mol` with the RDKit molecule object\n",
    "df['mol'] = df.smiles.apply(👾👾👾)  # what function should go here? fun(smiles) -> mol\n",
    "\n",
    "# add some useful descriptors\n",
    "\n",
    "df['HAC'] = df.mol.apply(👾👾👾)\n",
    "# remember that a method is normally called `instance.method()`, but actually `class.method(instance, )` will work too\n",
    "df['logP'] = ... # cf. https://www.rdkit.org/docs/source/rdkit.Chem.Descriptors.html\n",
    "\n",
    "# More automated? See https://greglandrum.github.io/rdkit-blog/posts/2022-12-23-descriptor-tutorial.html"
   ],
   "id": "eba5a4c774b2ca4e"
  },
  {
   "metadata": {},
   "cell_type": "code",
   "outputs": [],
   "execution_count": null,
   "source": [
    "# Max Phase is a column that indicates the phase of the clinical trial\n",
    "df.max_phase.sort_values()\\\n",
    "             .map({4: 'Approved',\n",
    "                  3: 'Phase 3 Clinical Trials',\n",
    "                  2: 'Phase 2 Clinical Trials',\n",
    "                  1: 'Phase 1 Clinical Trials',\n",
    "                  0.5: 'Early Phase 1 Clinical Trials',\n",
    "                  -1: 'Clinical Phase',\n",
    "                  float('nan'): 'No data'})\\\n",
    "              .value_counts()\n",
    "# any cool ideas what to do with this?"
   ],
   "id": "73a223830bd37e20"
  },
  {
   "metadata": {},
   "cell_type": "markdown",
   "source": [
    "### They say drugs are getting bigger\n",
    "the column `usan_year` is when the USAN name was assigned.\n",
    "USAN name is a non-proprietary name for a drug.\n",
    "INN name is the international non-proprietary name, they match most of the time.\n",
    "acetaminophen vs. paracetamol, epinephrine vs. adrenaline, and a couple more.\n",
    "Let's see if the molecules are getting bigger over time.\n",
    "They say drugs are getting bigger.\n",
    "the column `usan_year` is when the USAN name was assigned.\n",
    "USAN name is the American non-proprietary name for a drug.\n",
    "INN name is the international non-proprietary name, they match most of the time.\n",
    "The exceptions are acetaminophen vs. paracetamol, epinephrine vs. adrenaline, and a couple more.\n"
   ],
   "id": "cd40a44b7e2ef83d"
  },
  {
   "metadata": {
    "jupyter": {
     "is_executing": true
    }
   },
   "cell_type": "code",
   "source": [
    "# Let's see if the molecules are getting bigger over time,\n",
    "# by plotting what? vs what?\n",
    "\n",
    "👾👾👾"
   ],
   "id": "d3d30be3fecf1b40",
   "outputs": [],
   "execution_count": null
  },
  {
   "metadata": {},
   "cell_type": "markdown",
   "source": [
    "### Blood brain barrier\n",
    "\n",
    "A big challenge in drug design is to get the drug to the target,\n",
    "especially if it's the brain"
   ],
   "id": "7c17b8142cfa746b"
  },
  {
   "metadata": {},
   "cell_type": "code",
   "outputs": [],
   "execution_count": null,
   "source": [
    "# Are neuro molecules greasier?\n",
    "\n",
    "👾👾👾"
   ],
   "id": "9b3317e5a0920427"
  },
  {
   "metadata": {},
   "cell_type": "code",
   "outputs": [],
   "execution_count": null,
   "source": [
    "# what do they look like?\n",
    "print('Neuro')\n",
    "subbed = smol_df.loc[~smol_df.is_neuro].sample(20)\n",
    "display( Draw.MolsToGridImage(subbed.mol, legends=subbed.pref_name.astype(str).to_list(), molsPerRow=6) )\n",
    "\n",
    "print('Not neuro')\n",
    "subbed = smol_df.loc[~smol_df.is_neuro].sample(20)\n",
    "display( Draw.MolsToGridImage(subbed.mol, legends=subbed.pref_name.astype(str).to_list(), molsPerRow=6) )\n",
    "\n",
    "# how about the top ('head') and bottom ('tail') of the logP?\n",
    "\n",
    "👾👾👾"
   ],
   "id": "d8a261ba8b7f576"
  },
  {
   "metadata": {},
   "cell_type": "markdown",
   "source": [
    "## It's natural!\n",
    "\n",
    "Are any of the neurologically active molecules natural products?"
   ],
   "id": "e0612d9888d12942"
  },
  {
   "metadata": {
    "jupyter": {
     "is_executing": true
    }
   },
   "cell_type": "code",
   "source": [
    "# let's draw a grid image of the neuro & natural products\n",
    "\n",
    "👾👾👾"
   ],
   "id": "73f67c91499e7799",
   "outputs": [],
   "execution_count": null
  },
  {
   "metadata": {},
   "cell_type": "markdown",
   "source": "### Anything else you want to explore?",
   "id": "5d9dddedb2076731"
  },
  {
   "metadata": {},
   "cell_type": "code",
   "outputs": [],
   "execution_count": null,
   "source": [
    "# example: Random forest regression by property\n",
    "# unfortuantely, the fingerprint lecture is after this!\n",
    "# so we will use the properties only\n",
    "\n",
    "from sklearn.ensemble import RandomForestRegressor\n",
    "from sklearn.preprocessing import MinMaxScaler, StandardScaler\n",
    "import plotly.graph_objects as go\n",
    "from plotly.subplots import make_subplots\n",
    "from sklearn.inspection import partial_dependence\n",
    "import pandas as pd\n",
    "\n",
    "# I added these to my table, magically...\n",
    "props = ['MW',  'NumHeavyAtoms', 'CLogP', 'HBA', 'HBD',\n",
    "       'TPSA', 'RotBonds',  'RadiusOfGyration',\n",
    "       'SphericityIndex', 'NumAromaticRings','FractionCSP3']\n",
    "\n",
    "X = smol_df[props]\n",
    "X_scaled = pd.DataFrame(MinMaxScaler().fit_transform(X), columns=props)\n",
    "y = smol_df.is_neuro.astype(int)\n",
    "\n",
    "model = RandomForestRegressor(n_estimators=100, random_state=42)\n",
    "model.fit(X_scaled, y)\n",
    "feature_importances = pd.Series(model.feature_importances_, index=X_scaled.columns).sort_values(ascending=False)\n",
    "print(feature_importances)\n",
    "\n",
    "# ----------------------------------\n",
    "\n",
    "def plot_partial_dependence(model, X, features):\n",
    "    fig = go.Figure()\n",
    "    \n",
    "    for i, feature in enumerate(features):\n",
    "        pd_results = partial_dependence(model, X, [feature])\n",
    "        pd_values = pd_results['average'][0]\n",
    "        grid_values = pd_results['grid_values'][0]\n",
    "        \n",
    "        trace = go.Scatter(\n",
    "            x=grid_values,\n",
    "            y=pd_values,\n",
    "            mode='lines',\n",
    "            name=feature\n",
    "        )\n",
    "        fig.add_trace(trace)\n",
    "    \n",
    "    fig.update_layout(title_text='Partial Dependence Plots of properties', \n",
    "                      template='plotly_white',\n",
    "                      yaxis=dict(title='Partial Depencence of total hits'), \n",
    "                                 xaxis=dict(title='Value of mol property (MinMaxScaled values)')\n",
    "                     )\n",
    "    fig.show()\n",
    "\n",
    "plot_partial_dependence(model, X_scaled, props)\n",
    "\n",
    "print('These neuro molecules violate the model!')\n",
    "sub = smol_df.loc[smol_df.is_neuro]\n",
    "idx = model.predict(sub[props]) < 0.75\n",
    "Draw.MolsToGridImage(sub.loc[idx].mol.to_list(),\n",
    "                     legends=sub.pref_name.to_list(),\n",
    "                     molsPerRow=5, maxMols=300)"
   ],
   "id": "87b1fcdaa2dd8d1"
  },
  {
   "metadata": {
    "jupyter": {
     "is_executing": true
    }
   },
   "cell_type": "code",
   "source": [
    "# That was an example. But I did do a big no-no. What was it?\n",
    "\n",
    "👾👾👾\n",
    "\n",
    "# There is a random spike in whatever subset you when with? Why?\n",
    "\n",
    "👾👾👾 # (see below if confused)"
   ],
   "id": "b03b5b09920c2f6b",
   "outputs": [],
   "execution_count": null
  },
  {
   "metadata": {},
   "cell_type": "code",
   "outputs": [],
   "execution_count": null,
   "source": [
    "# You are right, this is because the data is not homogeneous. In the neuronal this is due to benzodiazepam. We could fix it this way:\n",
    "\n",
    "from rdkit.ML.Cluster import Butina\n",
    "from rdkit.Chem import rdFingerprintGenerator as rdfpg\n",
    "from rdkit.Chem import rdMolDescriptors as rdmd\n",
    "\n",
    "def butina_cluster(mol_list, cutoff=0.35):\n",
    "    # https://github.com/PatWalters/workshop/blob/master/clustering/taylor_butina.ipynb\n",
    "    fp_list = [rdmd.GetMorganFingerprintAsBitVect(AllChem.RemoveAllHs(m), 3, nBits=2048) for m in mol_list]\n",
    "    dists = []\n",
    "    nfps = len(fp_list)\n",
    "    for i in range(1, nfps):\n",
    "        sims = DataStructs.BulkTanimotoSimilarity(fp_list[i], fp_list[:i])\n",
    "        dists.extend([1 - x for x in sims])\n",
    "    mol_clusters = Butina.ClusterData(dists, nfps, cutoff, isDistData=True)\n",
    "    cluster_id_list = [0] * nfps\n",
    "    for idx, cluster in enumerate(mol_clusters, 1):\n",
    "        for member in cluster:\n",
    "            cluster_id_list[member] = idx\n",
    "    return cluster_id_list\n",
    "\n",
    "# howevever, we have not yet added the fingerprints to the dataframe so might want to make a FP column and then do this.\n",
    "\n",
    "👾👾👾\n",
    "\n",
    "# this is mad slow for big datasets. Why?\n",
    "\n",
    "👾👾👾\n",
    "\n",
    "# To fix it. We could use pytorch / JAX. Or we could do something else?\n",
    "\n",
    "👾👾👾"
   ],
   "id": "e68b6049476267e2"
  },
  {
   "metadata": {},
   "cell_type": "code",
   "outputs": [],
   "execution_count": null,
   "source": [
    "# ## Confusion matrix\n",
    "# what did we learn about the confusion matrix earlier in the week?\n",
    "\n",
    "👾👾👾"
   ],
   "id": "3a330ddcbff59299"
  },
  {
   "metadata": {},
   "cell_type": "markdown",
   "source": [
    "## Other tables\n",
    "In ChEMBL there are many tables. Some are more important than others depending on your task.\n",
    "Due to the size of the database, we will not be able to look at all of them.\n",
    "\n",
    "In the files of this practical are three exported pickled pandas tables:\n",
    "\n",
    "```python\n",
    "sql_query = 'SELECT * FROM ASSAY_TYPE'\n",
    "pd.read_sql_query(f\"{sql_query};\", conn).to_pickle('ChEMBL-assay_type.pkl.gz')\n",
    "\n",
    "activity = pd.read_sql_query(f\"SELECT molregno, activity_id, assay_id, units, value, relation FROM ACTIVITIES WHERE type = 'IC50'\", conn).to_pickle('ChEMBL-activity.pkl.gz')\n",
    "molregno2pref_name = df.set_index('molregno').pref_name.to_dict()\n",
    "activity['pref_name'] = activity.molregno.map(molregno2pref_name)\n",
    "activity.to_pickle('ChEMBL-activity.pkl.gz')\n",
    "\n",
    "pd.read_sql_query(f\"SELECT assay_id, assay_type, confidence_score FROM ASSAYS;\", conn).to_pickle('ChEMBL-assay.pkl.gz')\n",
    "```\n",
    "Let's load the to see what they look like.\n"
   ],
   "id": "17e2e9fb1e84293b"
  },
  {
   "metadata": {},
   "cell_type": "code",
   "outputs": [],
   "execution_count": null,
   "source": [
    "import pandas as pd\n",
    "\n",
    "path_prefix = 'https://github.com/matteoferla/DTC-compchem-practical/raw/refs/heads/main/2024-notebooks/data'\n",
    "activity_df = pd.read_pkl(f'path_prefix/ChEMBL-activity.pkl.gz')\n",
    "assay_df = pd.read_pkl(f'path_prefix/ChEMBL-assay.pkl.gz')\n",
    "assay_type_df = pd.read_pkl(f'path_prefix/ChEMBL-assay_type.pkl.gz')\n",
    "\n",
    "# remember, chemblid is used for molecules, targets and assays... while molregno is the molecule id\n",
    "\n",
    "### look at the tables\n",
    "\n",
    "👾👾👾"
   ],
   "id": "2d3de8a163950277"
  },
  {
   "metadata": {},
   "cell_type": "code",
   "outputs": [],
   "execution_count": null,
   "source": [
    "### Scatter plot?\n",
    "import plotly.express as px\n",
    "\n",
    "px.scatter(activity_df, x='👾👾👾', y='👾👾👾', color='👾👾👾', hover_data=['👾👾👾'])"
   ],
   "id": "e97cac26c683b8c1"
  },
  {
   "metadata": {},
   "cell_type": "code",
   "outputs": [],
   "execution_count": null,
   "source": [
    "# what about fingerprints?\n",
    "# https://www.rdkit.org/docs/GettingStartedInPython.html#rdkit-topological-fingerprints\n",
    "# Now, a fingerprint is a bit vector, which is a series of 0s and 1s.\n",
    "# we want a matrix that we can pass to `df.DataFrame(matrix, col=cols)` and concatenate (on axis=1) to the existing dataframe (remember to do `.reset_index(drop=True)`).\n",
    "\n",
    "👾👾👾\n",
    "\n",
    "# did the model improve?"
   ],
   "id": "c15c4f9220767263"
  },
  {
   "metadata": {},
   "cell_type": "markdown",
   "source": [
    "Other possible questions:\n",
    "\n",
    "* What does a linear regressor vs RF regressor results look like?\n",
    "* What is the target with the most data drugs?\n",
    "* What properties are changing with USAN date?\n",
    "* "
   ],
   "id": "68f747cb112ebcfc"
  }
 ],
 "metadata": {
  "kernelspec": {
   "display_name": "Python 3",
   "language": "python",
   "name": "python3"
  },
  "language_info": {
   "codemirror_mode": {
    "name": "ipython",
    "version": 2
   },
   "file_extension": ".py",
   "mimetype": "text/x-python",
   "name": "python",
   "nbconvert_exporter": "python",
   "pygments_lexer": "ipython2",
   "version": "2.7.6"
  }
 },
 "nbformat": 4,
 "nbformat_minor": 5
}
