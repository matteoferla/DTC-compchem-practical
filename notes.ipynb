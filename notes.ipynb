{
 "cells": [
  {
   "cell_type": "markdown",
   "id": "11d034b6-c3a0-4dbc-9cc6-2ed52979b152",
   "metadata": {},
   "source": [
    "## JSME\n",
    "\n",
    "JSME (JS molecular editor) is an pre ES6 JS editor that is a bit fiddly to use as a widget as is.\n",
    "It has an iconic button with a smiley face for smiles.\n",
    "Marvin is a newer more swanky tool, but requires a Python server to do the calculations, so cannot be made into a widget with ease.\n",
    "\n",
    "There are different implementation, as there are three flavours of notebook: vanilla jupyter, jupyter lab and colab. These interact w/ JS differently Blog post I wrote about the boring technicalities: https://blog.matteoferla.com/2022/05/js-in-colab.html\n",
    "\n",
    " I made a version that works in Colab and in vanilla Jupyter.\n",
    " A software team made a widget which can be used in labs —even if they are using someone's code they have their logo on it, which is rather rotten IMO. It is easy to monkeypatch to remove the logo but that would be more rotten still. :laugh:"
   ]
  },
  {
   "cell_type": "code",
   "execution_count": 2,
   "id": "b88a7938-0fec-4937-860d-51a6502653c5",
   "metadata": {},
   "outputs": [
    {
     "data": {
      "text/html": [
       "<script type=\"text/javascript\" language=\"javascript\" src=\"https://www.stats.ox.ac.uk/~ferla/jsme/jsme.nocache.js\"></script><script>window.smiles = \"\";\n",
       " window.py_obj_id = 140251638407760;\n",
       "window.container_id = \"jsme_container_8765727400485\";\n",
       "window.py_class_name = \"JSMEHack\";\n",
       "\n",
       "                     //this function will be called after the JavaScriptApplet code has been loaded.\n",
       "                         function jsmeOnLoad() {\n",
       "                             const params = {smiles: smiles || undefined};\n",
       "                             const jsmeApplet = new JSApplet.JSME(window.container_id, \"380px\", \"340px\", params);\n",
       "                             window.jsmeApplet = jsmeApplet;\n",
       "                             jsmeApplet.setCallBack(\"AfterStructureModified\", async (jsme) => {\n",
       "                               smiles = jsmeApplet.smiles();\n",
       "                               // in Jupyter this is called output_area. Colab #output-area\n",
       "                               // let el = document.createElement('div');\n",
       "                               // el.textContent = smiles\n",
       "                               // document.querySelector(\"#output_area,#output-area\").appendChild(el);\n",
       "                               if (window.google !== undefined) {\n",
       "                                 await google.colab.kernel.invokeFunction('notebook.set_smiles', [smiles]);\n",
       "                              } else if (window.Jupyter !== undefined) {\n",
       "                              console.log(`JSMEHack.get_by_id(${py_obj_id}).smiles = '${smiles}'`);\n",
       "                             Jupyter.notebook.kernel.execute(`${py_class_name}.get_by_id(${py_obj_id}).smiles = '${smiles}'`);\n",
       "                               }\n",
       "                               else {throw \"Unknown environment\";}\n",
       "                             });\n",
       "                       }\n",
       "                     </script><div id=\"jsme_container_8765727400485\"></div>"
      ],
      "text/plain": [
       "<IPython.core.display.HTML object>"
      ]
     },
     "metadata": {},
     "output_type": "display_data"
    }
   ],
   "source": [
    "## This will work in colab and vanilla\n",
    "!pip install git+https://github.com/matteoferla/JSME_notebook_hack.git\n",
    "from jsme_hack import JSMEHack\n",
    "jsme = JSMEHack()"
   ]
  },
  {
   "cell_type": "code",
   "execution_count": null,
   "id": "10117652-fcb7-4223-a0e4-bb75ad657fe2",
   "metadata": {},
   "outputs": [],
   "source": [
    "## this will work in lab\n",
    "!pip install trident-chemwidgets\n",
    "!jupyter labextension install trident-chemwidgets\n",
    "import trident_chemwidgets as tcw\n",
    "editor = tcw.JSME()\n",
    "editor"
   ]
  },
  {
   "cell_type": "code",
   "execution_count": null,
   "id": "8eefc4d9-7332-47a9-98a0-f69ded2f39b0",
   "metadata": {},
   "outputs": [],
   "source": [
    "# For jupyter hub I assume the former will work?"
   ]
  }
 ],
 "metadata": {
  "kernelspec": {
   "display_name": "Python 3 (ipykernel)",
   "language": "python",
   "name": "python3"
  },
  "language_info": {
   "codemirror_mode": {
    "name": "ipython",
    "version": 3
   },
   "file_extension": ".py",
   "mimetype": "text/x-python",
   "name": "python",
   "nbconvert_exporter": "python",
   "pygments_lexer": "ipython3",
   "version": "3.8.13"
  }
 },
 "nbformat": 4,
 "nbformat_minor": 5
}
