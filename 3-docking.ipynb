{
 "cells": [
  {
   "cell_type": "code",
   "execution_count": null,
   "metadata": {
    "collapsed": true
   },
   "outputs": [],
   "source": [
    "# ------------------------------------------------\n",
    "\n",
    "import os\n",
    "\n",
    "#source /etc/os-release && echo $PRETTY_NAME\n",
    "with open('/etc/os-release') as fh:\n",
    "  for line in fh:\n",
    "    if line and line[0] != '#':\n",
    "      os.environ[line.split('=')[0]] = line.split('=')[1]\n",
    "print(f'Running {os.environ[\"PRETTY_NAME\"]}') # on {os.environ[\"HOST\"]} as {os.environ[\"USER\"]}')\n",
    "import os\n",
    "\n",
    "gpu_info = !nvidia-smi\n",
    "gpu_info = '\\n'.join(gpu_info)\n",
    "if gpu_info.find('failed') >= 0:\n",
    "  print('Not connected to a GPU')\n",
    "else:\n",
    "  print(gpu_info)\n",
    "\n",
    "# ------------------------------------------------\n",
    "\n",
    "from IPython.display import display, clear_output\n",
    "import time, sys\n",
    "tick = time.time()\n",
    "# Install mamba without resetting the kernel alla condacolab\n",
    "!wget -qnc https://github.com/conda-forge/miniforge/releases/latest/download/Mambaforge-Linux-x86_64.sh\n",
    "!bash Mambaforge-Linux-x86_64.sh -bfp /usr/local\n",
    "sys.path.append('/usr/local/lib/python3.10/site-packages')\n",
    "!mamba config --set auto_update_conda false\n",
    "!pip -q install rdkit\n",
    "#!pip -q install pdb2pqr\n",
    "!pip install -q meeko\n",
    "!pip install -q git+https://github.com/matteoferla/DTC-compchem-practical.git\n",
    "!mamba install -y -c conda-forge -c bioconda vina oddt openbabel\n",
    "!pip install -q prolif MDAnalysis\n",
    "!mamba install -y -c hcc adfr-suite\n",
    "tock = time.time()\n",
    "clear_output()\n",
    "print(f'Installation time: {tock - tick}')\n",
    "\n",
    "# ------------------------------------------------\n",
    "\n",
    "import warnings\n",
    "with warnings.catch_warnings():\n",
    "  warnings.simplefilter(\"ignore\")\n",
    "  # last year used pyrosetta... the warning is distracting.\n",
    "  import DTC_compchem_practical as dtc"
   ]
  },
  {
   "cell_type": "markdown",
   "source": [
    "## Preparation\n",
    "\n",
    "Let's dock QRU into Mac1.\n",
    "The ligand `QRU` was derived from 6FZ and BHA.\n",
    "`QRU` is a chemical component identifier, but its Enamine REAL catalogue number is `Z5021668601`.\n",
    "You can find details of the structure and ligand in the PDB: https://www.rcsb.org/structure/5SQJ and\n",
    " https://www.rcsb.org/ligand/QRU.\n",
    " 6FZ and BHA hits were used as templates for the derivative QRU, which is a merger.\n",
    " So we will use them to get the centroid.\n",
    "\n",
    "We should not cheat: we should start with the SMILES of QRU. Find it!\n"
   ],
   "metadata": {
    "collapsed": false
   }
  },
  {
   "cell_type": "code",
   "execution_count": null,
   "outputs": [],
   "source": [
    "# so we will use their centroid for placement\n",
    "from rdkit import Chem\n",
    "from rdkit.Chem import AllChem\n",
    "import numpy as np\n",
    "import numpy.typing as npt\n",
    "\n",
    "template_hits = [Chem.MolFromMolBlock(b) for b in map(dtc.get_data, ('6FZ.mol', 'BHA.mol'))]\n",
    "combo: Chem.Mol = Chem.CombineMols(*template_hits)\n",
    "center = list(AllChem.ComputeCentroid( combo.GetConformer()))\n",
    "size = int(np.max(AllChem.Get3DDistanceMatrix(combo))) + 10\n",
    "print(f'Box size: {size}x{size}x{size}')\n",
    "\n",
    "# we will use this for reference only!\n",
    "crystal: Chem.Mol = Chem.MolFromMolBlock(dtc.get_data('QRU.mol'))\n",
    "# Let's start from a SMILES which you found _online_\n",
    "ligand_smiles = '👾👾👾'\n",
    "ligand = Chem.MolFromSmiles(ligand_smiles)\n",
    "AllChem.EmbedMol(ligand)\n",
    "ligand_filename = 'QRU.pdb'\n",
    "Chem.MolToPDBFile(ligand, ligand_filename)\n",
    "# should we have added hydogens or no here?"
   ],
   "metadata": {
    "collapsed": false
   }
  },
  {
   "cell_type": "code",
   "execution_count": null,
   "outputs": [],
   "source": [
    "import pkg_resources, os, subprocess\n",
    "from pathlib import Path\n",
    "\n",
    "prepped_template_filaname = 'template.pdbqt'\n",
    "prepped_ligand_filaname = 'ligand.pdbqt'\n",
    "template_filename: str = pkg_resources.resource_filename('DTC_compchem_practical', 'data/mac1-stripped.pdb')\n",
    "pipe = subprocess.Popen(f'prepare_receptor -r {template_filename} '+\n",
    "                        f'-o {prepped_template_filaname}',\n",
    "                           stdout=subprocess.PIPE, stderr=subprocess.PIPE, shell=True)\n",
    "output, error = pipe.communicate()\n",
    "print(output.decode('utf-8'))\n",
    "assert pipe.returncode == 0, f\"Error: {error.decode('utf-8')}\"\n",
    "assert (Path('/content') / prepped_template_filaname).exists(), 'prepare_receptor failed??'\n",
    "\n",
    "pipe = subprocess.Popen(f'prepare_ligand -l {ligand_filename} '+\\\n",
    "                        f'-o {prepped_ligand_filaname} -A hydrogens',\n",
    "                           stdout=subprocess.PIPE, stderr=subprocess.PIPE, shell=True)\n",
    "output, error = pipe.communicate()\n",
    "print(output.decode('utf-8'))\n",
    "assert pipe.returncode == 0, f\"Error: {error.decode('utf-8')}\"\n",
    "assert (Path('/content') / prepped_ligand_filaname).exists(), 'prepare_ligand failed??'\n",
    "print(f'pdbqt files {prepped_template_filaname} and {prepped_ligand_filaname} made')"
   ],
   "metadata": {
    "collapsed": false
   }
  },
  {
   "cell_type": "code",
   "execution_count": null,
   "outputs": [],
   "source": [
    "# The ligand `QRU` was derived from 6FZ and BHA\n",
    "# so we will use their centroid for placement\n",
    "from rdkit import Chem\n",
    "from rdkit.Chem import AllChem\n",
    "import numpy as np\n",
    "import numpy.typing as npt\n",
    "\n",
    "# 6FZ and BHA hits used as templates for the derivative QRU\n",
    "template_hits = [Chem.MolFromMolBlock(b) for b in map(dtc.get_data, ('6FZ.mol', 'BHA.mol'))]\n",
    "combo: Chem.Mol = Chem.CombineMols(*template_hits)\n",
    "center = list(AllChem.ComputeCentroid( combo.GetConformer()))\n",
    "size = int(np.max(AllChem.Get3DDistanceMatrix(combo))) + 10\n",
    "print(f'Box size: {size}x{size}x{size}')\n",
    "# ------------------------------------------------\n",
    "\n",
    "from rdkit import Chem\n",
    "from rdkit.Chem import AllChem\n",
    "from vina import Vina\n",
    "# score function to use Vina or another, see help(Vina) for more\n",
    "vina = Vina(sf_name='vina')\n",
    "vina.set_receptor(prepped_template_filaname)\n",
    "vina.set_ligand_from_file(prepped_ligand_filaname)\n",
    "vina.compute_vina_maps(center=center, box_size=[size, size, size])\n",
    "energy = vina.score()\n",
    "print('Score before minimization: %.3f (kcal/mol)' % energy[0])\n",
    "energy_minimized = vina.optimize()\n",
    "print('Score after minimization : %.3f (kcal/mol)' % energy_minimized[0])\n",
    "vina.write_pose('vina_minimized.pdbqt', overwrite=True)\n",
    "vina.dock(exhaustiveness=32, n_poses=20)\n",
    "vina.write_poses('vina_out.pdbqt', n_poses=10, overwrite=True)"
   ],
   "metadata": {
    "collapsed": false
   }
  },
  {
   "cell_type": "markdown",
   "source": [
    "> What is the effect of a bigger box size? Why not do blind docking?\n",
    "\n",
    "👾👾👾"
   ],
   "metadata": {
    "collapsed": false
   }
  },
  {
   "cell_type": "code",
   "execution_count": null,
   "outputs": [],
   "source": [
    "# The format needs converting from PDBQT to RDKit objects\n",
    "# unfortunately, there is the same song and dance to do...\n",
    "import io\n",
    "from openbabel import openbabel as ob\n",
    "from typing import List\n",
    "\n",
    "crystal = Chem.MolFromMolBlock(dtc.get_data('QRU.mol'))\n",
    "\n",
    "obConversion = ob.OBConversion()\n",
    "obConversion.SetInAndOutFormats(\"pdbqt\", \"sdf\")\n",
    "mol = ob.OBMol()\n",
    "obConversion.ReadString(mol, vina.poses())\n",
    "# or...\n",
    "#obConversion.ReadFile(mol, 'vina_out.pdbqt')\n",
    "sdf_block: str = obConversion.WriteString(mol)\n",
    "with Chem.ForwardSDMolSupplier(io.BytesIO(sdf_block.encode())) as sdfh:\n",
    "  poses: List[Chem.Mol] = list(sdfh)\n",
    "\n",
    "# let's have a look\n",
    "display(poses[0])"
   ],
   "metadata": {
    "collapsed": false
   }
  },
  {
   "cell_type": "markdown",
   "source": [
    "> What is going on?\n",
    "\n",
    "👾👾👾\n",
    "\n",
    "> Spot on. The hydrogens are now radicals. That is awkward. Were we meant to use a structure with hydrogens?\n",
    "\n",
    "👾👾👾"
   ],
   "metadata": {
    "collapsed": false
   }
  },
  {
   "cell_type": "code",
   "execution_count": null,
   "outputs": [],
   "source": [
    "# You answered no, Let's fix the chemistry then:\n",
    "for i, mol in enumerate(poses):\n",
    "  AllChem.AssignBondOrdersFromTemplate(crystal, mol)\n",
    "  print(f'The pose number {i} has an RMSD of {AllChem.CalcRMS(crystal, poses[0])}Aastroem')\n",
    "  print(mol.GetProp('REMARK'))\n",
    "\n",
    "view = dtc.get_protein_view(dtc.get_data('mac1-stripped.pdb'), resn='HOH')\n",
    "dtc.add_mols(view, cyanCarbon=crystal, whiteCarbon=poses[0])\n",
    "view.zoomTo({'model': -1})\n",
    "view.show()"
   ],
   "metadata": {
    "collapsed": false
   }
  },
  {
   "cell_type": "code",
   "execution_count": null,
   "outputs": [],
   "source": [
    "import MDAnalysis as mda\n",
    "import prolif as plf\n",
    "\n",
    "u = mda.Universe(protein_file)\n",
    "protein_mol = plf.Molecule.from_mda(u)\n",
    "# display (remove `slice(260, 263)` to show all residues)\n",
    "plf.display_residues(protein_mol, slice(260, 263))"
   ],
   "metadata": {
    "collapsed": false
   }
  }
 ],
 "metadata": {
  "kernelspec": {
   "display_name": "Python 3",
   "language": "python",
   "name": "python3"
  },
  "language_info": {
   "codemirror_mode": {
    "name": "ipython",
    "version": 2
   },
   "file_extension": ".py",
   "mimetype": "text/x-python",
   "name": "python",
   "nbconvert_exporter": "python",
   "pygments_lexer": "ipython2",
   "version": "2.7.6"
  }
 },
 "nbformat": 4,
 "nbformat_minor": 0
}
