{
 "cells": [
  {
   "cell_type": "code",
   "execution_count": null,
   "metadata": {
    "collapsed": true
   },
   "outputs": [],
   "source": [
    "# ------------------------------------------------\n",
    "\n",
    "import os\n",
    "\n",
    "#source /etc/os-release && echo $PRETTY_NAME\n",
    "with open('/etc/os-release') as fh:\n",
    "  for line in fh:\n",
    "    if line and line[0] != '#':\n",
    "      os.environ[line.split('=')[0]] = line.split('=')[1]\n",
    "print(f'Running {os.environ[\"PRETTY_NAME\"]}') # on {os.environ[\"HOST\"]} as {os.environ[\"USER\"]}')\n",
    "\n",
    "# ------------------------------------------------\n",
    "\n",
    "from IPython.display import display, clear_output\n",
    "import time, sys\n",
    "tick = time.time()\n",
    "# Install mamba without resetting the kernel alla condacolab\n",
    "#!wget -qnc https://github.com/conda-forge/miniforge/releases/latest/download/Mambaforge-Linux-x86_64.sh\n",
    "!bash Mambaforge-Linux-x86_64.sh -bfp /usr/local\n",
    "sys.path.append('/usr/local/lib/python3.10/site-packages')\n",
    "!mamba config --set auto_update_conda false\n",
    "!pip -q install rdkit\n",
    "!pip -q install pdb2pqr\n",
    "!pip install -q git+https://github.com/matteoferla/DTC-compchem-practical.git\n",
    "!mamba install -y -c bioconda autodock-vina\n",
    "!mamba conda install -y -c conda-forge oddt openbabel\n",
    "tock = time.time()\n",
    "clear_output()\n",
    "print(f'Installation time: {tock - tick}')"
   ]
  },
  {
   "cell_type": "code",
   "execution_count": null,
   "outputs": [],
   "source": [],
   "metadata": {
    "collapsed": false
   }
  }
 ],
 "metadata": {
  "kernelspec": {
   "display_name": "Python 3",
   "language": "python",
   "name": "python3"
  },
  "language_info": {
   "codemirror_mode": {
    "name": "ipython",
    "version": 2
   },
   "file_extension": ".py",
   "mimetype": "text/x-python",
   "name": "python",
   "nbconvert_exporter": "python",
   "pygments_lexer": "ipython2",
   "version": "2.7.6"
  }
 },
 "nbformat": 4,
 "nbformat_minor": 0
}
