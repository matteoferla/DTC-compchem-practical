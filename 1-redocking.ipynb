{
 "cells": [
  {
   "cell_type": "markdown",
   "id": "3945a739-2f25-4783-bce9-dad74f5a2ba3",
   "metadata": {},
   "source": [
    "For the analysis, we will use fragment screen data from [Fragalysis](https://fragalysis.diamond.ac.uk/),\n",
    "the app that provides an interface to the various datasets in XChem, prof Frank von Delft's group at Diamond.\n",
    "For what is what consult [this table](https://github.com/matteoferla/munged-Fragalysis-targets/blob/main/targets.md).\n",
    "In this practical we will be using it for the data, but you are welcome to explore it.\n",
    "You will be shown it properly in the Diamond visit.\n",
    "Additionally, a key idea is fragment binding sites are no way of equal important to a researcher,\n",
    "i.e. designing an inhibitor for an enzyme requires knowledge of where and how catalysis occurs.\n",
    "This is also beyond the scope of this practical but worth keeping in mind."
   ]
  },
  {
   "cell_type": "markdown",
   "id": "96e7ef3e-1174-4686-a0ef-42a2b8ecdead",
   "metadata": {},
   "source": [
    "## Jupyter basics\n",
    "A notebook is composed of 'cells'.\n",
    "This is a markdown cell, it is for words.\n",
    "The code cells can be run by pressing the play button at the top or shift+Enter.\n",
    "You can freely change things as you will have to in the next cell."
   ]
  },
  {
   "cell_type": "code",
   "execution_count": null,
   "id": "0fc3bc93-e491-41c0-9bc2-56588452e2fb",
   "metadata": {},
   "outputs": [],
   "source": [
    "# What target did you pick?\n",
    "\n",
    "target_name = 'CHANGE-ME'\n",
    "\n",
    "# download all molecules of that target\n",
    "# plot distance heatmap"
   ]
  },
  {
   "cell_type": "code",
   "execution_count": null,
   "id": "21e1a8e2-9605-4d07-ab67-4d56b6889f59",
   "metadata": {},
   "outputs": [],
   "source": []
  }
 ],
 "metadata": {
  "kernelspec": {
   "display_name": "Python 3 (ipykernel)",
   "language": "python",
   "name": "python3"
  },
  "language_info": {
   "codemirror_mode": {
    "name": "ipython",
    "version": 3
   },
   "file_extension": ".py",
   "mimetype": "text/x-python",
   "name": "python",
   "nbconvert_exporter": "python",
   "pygments_lexer": "ipython3",
   "version": "3.8.13"
  }
 },
 "nbformat": 4,
 "nbformat_minor": 5
}
